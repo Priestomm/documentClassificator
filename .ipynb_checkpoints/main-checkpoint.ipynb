{
 "cells": [
  {
   "cell_type": "markdown",
   "metadata": {},
   "source": [
    "Imports"
   ]
  },
  {
   "cell_type": "code",
   "execution_count": 1,
   "metadata": {},
   "outputs": [],
   "source": [
    "import nltk\n",
    "import string\n",
    "from nltk.stem import WordNetLemmatizer\n",
    "from nltk.stem import PorterStemmer"
   ]
  },
  {
   "cell_type": "markdown",
   "metadata": {},
   "source": [
    "Import stop_words and punctuations"
   ]
  },
  {
   "cell_type": "code",
   "execution_count": 3,
   "metadata": {},
   "outputs": [
    {
     "name": "stdout",
     "output_type": "stream",
     "text": [
      "['i', 'me', 'my', 'myself', 'we', 'our', 'ours', 'ourselves', 'you', \"you're\", \"you've\", \"you'll\", \"you'd\", 'your', 'yours', 'yourself', 'yourselves', 'he', 'him', 'his', 'himself', 'she', \"she's\", 'her', 'hers', 'herself', 'it', \"it's\", 'its', 'itself', 'they', 'them', 'their', 'theirs', 'themselves', 'what', 'which', 'who', 'whom', 'this', 'that', \"that'll\", 'these', 'those', 'am', 'is', 'are', 'was', 'were', 'be', 'been', 'being', 'have', 'has', 'had', 'having', 'do', 'does', 'did', 'doing', 'a', 'an', 'the', 'and', 'but', 'if', 'or', 'because', 'as', 'until', 'while', 'of', 'at', 'by', 'for', 'with', 'about', 'against', 'between', 'into', 'through', 'during', 'before', 'after', 'above', 'below', 'to', 'from', 'up', 'down', 'in', 'out', 'on', 'off', 'over', 'under', 'again', 'further', 'then', 'once', 'here', 'there', 'when', 'where', 'why', 'how', 'all', 'any', 'both', 'each', 'few', 'more', 'most', 'other', 'some', 'such', 'no', 'nor', 'not', 'only', 'own', 'same', 'so', 'than', 'too', 'very', 's', 't', 'can', 'will', 'just', 'don', \"don't\", 'should', \"should've\", 'now', 'd', 'll', 'm', 'o', 're', 've', 'y', 'ain', 'aren', \"aren't\", 'couldn', \"couldn't\", 'didn', \"didn't\", 'doesn', \"doesn't\", 'hadn', \"hadn't\", 'hasn', \"hasn't\", 'haven', \"haven't\", 'isn', \"isn't\", 'ma', 'mightn', \"mightn't\", 'mustn', \"mustn't\", 'needn', \"needn't\", 'shan', \"shan't\", 'shouldn', \"shouldn't\", 'wasn', \"wasn't\", 'weren', \"weren't\", 'won', \"won't\", 'wouldn', \"wouldn't\"]\n"
     ]
    }
   ],
   "source": [
    "stop_words = nltk.corpus.stopwords.words('english')\n",
    "punctuation = string.punctuation"
   ]
  },
  {
   "cell_type": "markdown",
   "metadata": {},
   "source": [
    "Initialize stemmer and lemmatizer"
   ]
  },
  {
   "cell_type": "code",
   "execution_count": 4,
   "metadata": {},
   "outputs": [],
   "source": [
    "stemmer = PorterStemmer()\n",
    "lemmatizer = WordNetLemmatizer()"
   ]
  },
  {
   "cell_type": "markdown",
   "metadata": {},
   "source": [
    "Fetch the corpus I'll use as training set"
   ]
  },
  {
   "cell_type": "code",
   "execution_count": 5,
   "metadata": {},
   "outputs": [],
   "source": [
    "words = nltk.corpus.gutenberg.words()\n",
    "words_without_sw = []"
   ]
  },
  {
   "cell_type": "markdown",
   "metadata": {},
   "source": [
    "Stemming, lemmatization and removing of stopwords and punctation from the training corpus"
   ]
  },
  {
   "cell_type": "code",
   "execution_count": 8,
   "metadata": {},
   "outputs": [],
   "source": [
    "for word in words:\n",
    "    if word not in stop_words and word not in punctuation:\n",
    "        # print(f\"{word} : {lemmatizer.lemmatize(word)} : {stemmer.stem(lemmatizer.lemmatize(word))}\")\n",
    "        words_without_sw.append(lemmatizer.lemmatize(stemmer.stem(word)))"
   ]
  },
  {
   "cell_type": "code",
   "execution_count": 23,
   "metadata": {},
   "outputs": [],
   "source": [
    "freq = nltk.probability.FreqDist(words_without_sw) # BOW\n",
    "featureset = []\n",
    "for pair in freq.most_common(1000):\n",
    "    featureset = 'english'\n"
   ]
  },
  {
   "cell_type": "code",
   "execution_count": 27,
   "metadata": {},
   "outputs": [
    {
     "name": "stdout",
     "output_type": "stream",
     "text": [
      "{'i': 'english', 'and': 'english', 'shall': 'english', 'said': 'english', 'unto': 'english', 'lord': 'english', 'the': 'english', 'thi': 'english', 'thou': 'english', 'one': 'english', '.\"': 'english', 'god': 'english', 'man': 'english', '--': 'english', 'ye': 'english', 'thee': 'english', 'say': 'english', ',\"': 'english', 'but': 'english', 'day': 'english', 'upon': 'english', 'come': 'english', 'mr': 'english', 'would': 'english', 'thing': 'english', 'son': 'english', 'like': 'english', 'go': 'english', 'he': 'english', 'could': 'english', 'king': 'english', 'hand': 'english', 'know': 'english', 'came': 'english', 'see': 'english', 'time': 'english', 'hous': 'english', 'good': 'english', 'littl': 'english', 'look': 'english', 'even': 'english', 'father': 'english', 'great': 'english', 'everi': 'english', '1': 'english', 'peopl': 'english', 'child': 'english', '2': 'english', 'u': 'english', 'make': 'english', 'made': 'english', 'men': 'english', 'let': 'english', 'for': 'english', 'a': 'english', '3': 'english', 'it': 'english', 'israel': 'english', 'may': 'english', 'hath': 'english', 'well': 'english', '4': 'english', 'two': 'english', '7': 'english', 'word': 'english', 'must': 'english', '5': 'english', '6': 'english', 'much': 'english', 'went': 'english', 'land': 'english', '?\"': 'english', 'way': 'english', 'yet': 'english', '9': 'english', '8': 'english', 'also': 'english', 'then': 'english', 'take': 'english', '10': 'english', 'give': 'english', '11': 'english', 'think': 'english', 'old': 'english', 'place': 'english', 'away': 'english', 'eye': 'english', 'o': 'english', 'call': 'english', '12': 'english', 'might': 'english', 'first': 'english', '13': 'english', '14': 'english', 'never': 'english', 'head': 'english', 'long': 'english', 'name': 'english', '15': 'english', 'pas': 'english', 'heart': 'english', 'you': 'english', 'seem': 'english', 'though': 'english', 'thought': 'english', 'put': 'english', '16': 'english', 'earth': 'english', 'turn': 'english', 'shalt': 'english', 'what': 'english', 'year': 'english', 'whale': 'english', 'ever': 'english', 'saw': 'english', 'she': 'english', 'therefor': 'english', 'in': 'english', 'to': 'english', 'offer': 'english', '18': 'english', 'heard': 'english', 'mani': 'english', 'without': 'english', 'cri': 'english', 'citi': 'english', 'they': 'english', 'face': 'english', 'love': 'english', 'hear': 'english', '19': 'english', 'sea': 'english', '17': 'english', 'behold': 'english', 'that': 'english', '20': 'english', 'noth': 'english', 'brother': 'english', 'so': 'english', '21': 'english', 'life': 'english', 'live': 'english', '22': 'english', 'work': 'english', 'speak': 'english', 'among': 'english', 'hast': 'english', 'answer': 'english', 'last': 'english', 'heaven': 'english', 'still': 'english', 'voic': 'english', 'woman': 'english', 'thu': 'english', 'night': 'english', 'side': 'english', 'world': 'english', 'done': 'english', 'sure': 'english', 'tell': 'english', 'found': 'english', 'water': 'english', '23': 'english', 'if': 'english', 'now': 'english', 'set': 'english', 'saith': 'english', 'mother': 'english', 'miss': 'english', 'anoth': 'english', 'took': 'english', 'three': 'english', 'friend': 'english', 'brought': 'english', 'back': 'english', 'quit': 'english', 'forth': 'english', 'of': 'english', 'round': 'english', 'right': 'english', 'servant': 'english', '24': 'english', 'walk': 'english', 'command': 'english', 'young': 'english', 'there': 'english', 'priest': 'english', 'part': 'english', 'end': 'english', 'bring': 'english', 'return': 'english', 'stand': 'english', 'david': 'english', 'ask': 'english', 'neither': 'english', 'soul': 'english', 'spirit': 'english', 'mean': 'english', 'soon': 'english', '25': 'english', 'oh': 'english', 'fear': 'english', 'sir': 'english', 'open': 'english', 'thine': 'english', '26': 'english', 'when': 'english', 'alway': 'english', 'mine': 'english', 'left': 'english', 'till': 'english', 'captain': 'english', 'death': 'english', 'high': 'english', 'jesu': 'english', 'want': 'english', 'feel': 'english', 'eat': 'english', 'seen': 'english', 'ship': 'english', 'togeth': 'english', 'ladi': 'english', '27': 'english', 'poor': 'english', 'believ': 'english', 'toward': 'english', 'door': 'english', 'light': 'english', 'far': 'english', 'fire': 'english', 'sent': 'english', 'someth': 'english', 'morn': 'english', 'whole': 'english', 'no': 'english', 'mind': 'english', 'my': 'english', 'stood': 'english', 'half': 'english', 'hope': 'english', 'we': 'english', '.--': 'english', 'thereof': 'english', 'gave': 'english', 'find': 'english', 'accord': 'english', 'foot': 'english', 'daughter': 'english', '28': 'english', 'get': 'english', 'better': 'english', 'inde': 'english', 'tree': 'english', 'die': 'english', 'law': 'english', 'thousand': 'english', 'emma': 'english', 'mose': 'english', 'sin': 'english', 'how': 'english', 'keep': 'english', 'talk': 'english', 'bodi': 'english', 'moment': 'english', 'evil': 'english', 'given': 'english', 'leav': 'english', 'present': 'english', 'appear': 'english', 'rest': 'english', 'enter': 'english', 'white': 'english', 'hundr': 'english', 'jerusalem': 'english', 'full': 'english', 'hi': 'english', 'whose': 'english', 'judah': 'english', 'cannot': 'english', 'new': 'english', 'room': 'english', 'rather': 'english', 'wish': 'english', 'enough': 'english', 'happi': 'english', '29': 'english', 'follow': 'english', 'power': 'english', 'natur': 'english', 'sight': 'english', 'told': 'english', 'with': 'english', 'bear': 'english', 'sister': 'english', 'almost': 'english', 'began': 'english', 'all': 'english', 'gener': 'english', 'wife': 'english', 'dear': 'english', 'hold': 'english', 'dead': 'english', 'knew': 'english', 'art': 'english', 'receiv': 'english', 'blood': 'english', '!--': 'english', 'sword': 'english', 'holi': 'english', '30': 'english', 'arm': 'english', 'use': 'english', '31': 'english', 'dark': 'english', 'boy': 'english', 'mouth': 'english', 'gone': 'english', 'whi': 'english', 'home': 'english', 'hour': 'english', 'plea': 'english', 'kind': 'english', 'famili': 'english', 'continu': 'english', 'bless': 'english', 'none': 'english', 'elinor': 'english', 'understand': 'english', 'peac': 'english', 'howev': 'english', 'realli': 'english', 'manner': 'english', 'caus': 'english', 'gold': 'english', 'who': 'english', 'reason': 'english', 'spake': 'english', '32': 'english', 'person': 'english', 'cast': 'english', 'taken': 'english', 'sort': 'english', 'air': 'english', 'pray': 'english', 'known': 'english', 'perhap': 'english', 'fall': 'english', 'mariann': 'english', 'egypt': 'english', 'four': 'english', 'cut': 'english', 'deliv': 'english', 'sit': 'english', 'carri': 'english', 'field': 'english', 'wonder': 'english', 'within': 'english', 'near': 'english', 'strong': 'english', 'felt': 'english', 'ahab': 'english', 'whether': 'english', 'wait': 'english', '33': 'english', 'christ': 'english', 'nation': 'english', 'best': 'english', 'stone': 'english', 'gather': 'english', 'matter': 'english', 'rememb': 'english', 'sun': 'english', 'drink': 'english', 'repli': 'english', 'five': 'english', 'gate': 'english', 'point': 'english', 'ground': 'english', 'meet': 'english', 'small': 'english', 'lay': 'english', 'joy': 'english', 'faith': 'english', 'destroy': 'english', 'host': 'english', 'seven': 'english', 'tri': 'english', 'book': 'english', 'boat': 'english', 'next': 'english', 'smile': 'english', 'sat': 'english', 'lie': 'english', 'ann': 'english', 'help': 'english', 'run': 'english', 'judg': 'english', 'el': 'english', 'glori': 'english', 'fell': 'english', 'other': 'english', 'ear': 'english', '34': 'english', 'turnbul': 'english', 'suppos': 'english', 'truth': 'english', 'sinc': 'english', 'enemi': 'english', 'war': 'english', 'not': 'english', 'certain': 'english', 'save': 'english', 'sound': 'english', 'garden': 'english', 'at': 'english', 'month': 'english', \",'\": 'english', 'shew': 'english', 'prophet': 'english', 'sing': 'english', 'do': 'english', 'dwell': 'english', 'gentleman': 'english', 'syme': 'english', 'le': 'english', 'care': 'english', 'true': 'english', 'honour': 'english', 'least': 'english', 'wind': 'english', 'doubt': 'english', 'flesh': 'english', 'remain': 'english', 'judgment': 'english', 'countri': 'english', 'second': 'english', 'harriet': 'english', 'brown': 'english', 'black': 'english', 'beauti': 'english', 'rise': 'english', 'begin': 'english', 'by': 'english', 'laugh': 'english', 'wall': 'english', 'afraid': 'english', 'alon': 'english', 'mountain': 'english', 'comfort': 'english', 'form': 'english', 'princ': 'english', 'got': 'english', 'angel': 'english', 'is': 'english', 'letter': 'english', 'bow': 'english', 'john': 'english', 'ten': 'english', 'tabl': 'english', 'prais': 'english', 'fill': 'english', '--\"': 'english', 'send': 'english', 'behind': 'english', 'street': 'english', 'desir': 'english', 'number': 'english', '36': 'english', 'watch': 'english', 'play': 'english', 'wood': 'english', 'twenti': 'english', 'chang': 'english', 'hors': 'english', '35': 'english', 'busi': 'english', 'altar': 'english', 'strang': 'english', 'concern': 'english', 'bread': 'english', 'fruit': 'english', 'hill': 'english', 'touch': 'english', 'beast': 'english', 'larg': 'english', 'pleasur': 'english', 'move': 'english', 'along': 'english', 'depart': 'english', 'weston': 'english', 'sweet': 'english', 'cours': 'english', 'river': 'english', 'these': 'english', 'midst': 'english', 'kill': 'english', 'bed': 'english', 'sleep': 'english', 'close': 'english', 'money': 'english', 'haue': 'english', 'seek': 'english', 'silver': 'english', 'delight': 'english', 'state': 'english', 'master': 'english', 'merci': 'english', 'possibl': 'english', 'read': 'english', 'often': 'english', 'fine': 'english', 'kept': 'english', 'serv': 'english', 'observ': 'english', 'readi': 'english', 'lift': 'english', 'burn': 'english', 'kingdom': 'english', 'mighti': 'english', 'red': 'english', 'saul': 'english', 'minut': 'english', 'thank': 'english', 'from': 'english', 'hair': 'english', 'line': 'english', 'visit': 'english', 'macian': 'english', 'differ': 'english', 'reign': 'english', 'or': 'english', 'promis': 'english', 'wick': 'english', 'consid': 'english', 'stop': 'english', 'glad': 'english', 'born': 'english', '37': 'english', 'posse': 'english', 'need': 'english', 'green': 'english', 'spoken': 'english', 'fish': 'english', 'besid': 'english', 'rose': 'english', 'suffer': 'english', 'show': 'english', 'her': 'english', 'expect': 'english', 'marri': 'english', 'immedi': 'english', 'certainli': 'english', 'elton': 'english', 'equal': 'english', 'window': 'english', 'short': 'english', 'becom': 'english', 'case': 'english', 'burnt': 'english', 'cloth': 'english', 'on': 'english', 'stay': 'english', 'prepar': 'english', 'alic': 'english', 'order': 'english', 'cloud': 'english', 'abl': 'english', 'song': 'english', 'broken': 'english', 'knightley': 'english', 'written': 'english', 'mount': 'english', 'wise': 'english', 'draw': 'english', 'where': 'english', 'chief': 'english', 'anyth': 'english', 'cover': 'english', 'build': 'english', 'ought': 'english', 'question': 'english', '38': 'english', 'parti': 'english', 'laid': 'english', 'tribe': 'english', 'congreg': 'english', 'strength': 'english', 'fight': 'english', 'wherefor': 'english', 'break': 'english', 'troubl': 'english', 'either': 'english', 'ran': 'english', 'jacob': 'english', 'deal': 'english', 'girl': 'english', 'top': 'english', 'fast': 'english', 'sail': 'english', 'seed': 'english', 'wit': 'english', '?--': 'english', 'yea': 'english', 'six': 'english', 'rich': 'english', 'mere': 'english', 'admir': 'english', 'pain': 'english', 'deep': 'english', 'tabernacl': 'english', 'ham': 'english', 'happen': 'english', '40': 'english', 'lost': 'english', 'husband': 'english', 'except': 'english', 'sen': 'english', 'silent': 'english', 'stranger': 'english', 'suddenli': 'english', 'fair': 'english', 'seat': 'english', 'silenc': 'english', 'beyond': 'english', 'idea': 'english', 'hard': 'english', 'dream': 'english', 'perfect': 'english', 'interest': 'english', 'rais': 'english', ',)': 'english', 'aaron': 'english', 'chapter': 'english', 'engag': 'english', 'meat': 'english', 'sake': 'english', ';--': 'english', 'declar': 'english', 'fellow': 'english', 'piec': 'english', 'ill': 'english', 'will': 'english', 'knowledg': 'english', 'here': 'english', 'rejoic': 'english', 'respect': 'english', 'compani': 'english', 'subject': 'english', 'object': 'english', ',--': 'english', 'grow': 'english', 'acquaint': 'english', 'which': 'english', 'forward': 'english', 'write': 'english', 'iniqu': 'english', '39': 'english', 'bad': 'english', 'nor': 'english', 'fanci': 'english', 'sacrific': 'english', 'wild': 'english', 'be': 'english', 'trust': 'english', \"!'\": 'english', 'account': 'english', 'age': 'english', 'past': 'english', 'free': 'english', 'step': 'english', 'jew': 'english', 'third': 'english', 'grace': 'english', 'town': 'english', 'wine': 'english', 'battl': 'english', 'self': 'english', \".'\": 'english', 'oblig': 'english', 'late': 'english', 'low': 'english', 'wilder': 'english', 'righteous': 'english', 'inherit': 'english', 'inhabit': 'english', '.)': 'english', 'cross': 'english', 'star': 'english', 'afterward': 'english', 'colonel': 'english', '41': 'english', 'solomon': 'english', 'breath': 'english', 'sign': 'english', 'iron': 'english', 'woodhous': 'english', 'tongu': 'english', 'anger': 'english', 'measur': 'english', 'mark': 'english', 'vessel': 'english', 'roll': 'english', 'affect': 'english', 'hate': 'english', 'alreadi': 'english', 'common': 'english', 'longer': 'english', 'lest': 'english', 'philistin': 'english', 'mari': 'english', 'coven': 'english', 'charg': 'english', 'clean': 'english', 'offic': 'english', 'hardli': 'english', 'attent': 'english', 'express': 'english', 'dare': 'english', 'escap': 'english', 'multitud': 'english', 'oil': 'english', 'clear': 'english', 'secret': 'english', 'rock': 'english', 'remov': 'english', 'after': 'english', 'cur': 'english', 'jane': 'english', 'human': 'english', 'cold': 'english', 'creatur': 'english', 'plain': 'english', 'join': 'english', 'assur': 'english', 'babylon': 'english', 'sometim': 'english', 'vain': 'english', 'companion': 'english', 'drop': 'english', 'reach': 'english', 'spoke': 'english', 'wave': 'english', 'pretti': 'english', 'imagin': 'english', 'wrong': 'english', 'act': 'english', 'elliot': 'english', 'thyself': 'english', 'levit': 'english', 'your': 'english', 'morrow': 'english', 'throne': 'english', 'their': 'english', 'susan': 'english', 'grave': 'english', 'ad': 'english', 'entir': 'english', 'surpris': 'english', 'stori': 'english', 'wisdom': 'english', 'dashwood': 'english', 'earli': 'english', 'blue': 'english', 'length': 'english', 'doth': 'english', 'lamb': 'english', 'becam': 'english', 'templ': 'english', 'wilt': 'english', 'sever': 'english', 'forc': 'english', 'fli': 'english', 'spread': 'english', 'cometh': 'english', 'regard': 'english', 'particular': 'english', 'worship': 'english', 'mad': 'english', 'tast': 'english', 'purpos': 'english', 'learn': 'english', 'pull': 'english', 'bright': 'english', 'tear': 'english', 'danc': 'english', 'bound': 'english', 'pharaoh': 'english', 'discipl': 'english', 'neighbour': 'english', 'becaus': 'english', 'shape': 'english', 'listen': 'english', 'opinion': 'english', 'church': 'english', 'devil': 'english', 'hat': 'english', 'court': 'english', 'sky': 'english', 'instant': 'english', 'edward': 'english', 'south': 'english', 'st': 'english', 'increas': 'english', 'bird': 'english', 'caesar': 'english', 'bare': 'english', 'bone': 'english', 'allow': 'english', '42': 'english', 'fact': 'english', 'twelv': 'english', 'satisfi': 'english', 'repeat': 'english', 'favour': 'english', 'pay': 'english', 'thirti': 'english', 'wast': 'english', 'forget': 'english', 'figur': 'english', 'lip': 'english', 'real': 'english', '44': 'english', 'held': 'english', 'colour': 'english', 'start': 'english', 'accept': 'english', 'abraham': 'english', 'dread': 'english', 'dress': 'english', 'captiv': 'english', 'stubb': 'english', 'sorrow': 'english', 'fit': 'english', 'east': 'english', 'cubit': 'english', 'hell': 'english', 'week': 'english', 'queen': 'english', 'harpoon': 'english', 'churchil': 'english', 'spoil': 'english', 'lead': 'english', 'crown': 'english', 'pour': 'english', 'louisa': 'english', 'wing': 'english', 'fortun': 'english', 'complet': 'english', 'flower': 'english', 'righteou': 'english', 'therein': 'english', 'joseph': 'english', 'deck': 'english', 'safe': 'english', 'have': 'english', 'ark': 'english', 'queequeg': 'english', 'excel': 'english', 'chanc': 'english', 'imag': 'english', 'settl': 'english', 'circumst': 'english', 'view': 'english', 'north': 'english', 'blow': 'english', 'wrath': 'english', 'servic': 'english', 'grey': 'english', 'everyth': 'english', 'paul': 'english', 'danger': 'english', 'attend': 'english', 'smote': 'english', 'charact': 'english', 'fifti': 'english', 'fix': 'english', 'sperm': 'english', 'carriag': 'english', 'met': 'english', 'caught': 'english', 'stretch': 'english', 'perfectli': 'english', 'fool': 'english', 'nois': 'english', 'leg': 'english', 'hearken': 'english', 'lion': 'english', 'direct': 'english', 'convers': 'english', 'dwelt': 'english', 'sick': 'english', 'fairfax': 'english', 'shadow': 'english', 'cheer': 'english', 'youth': 'english', 'desol': 'english', 'unclean': 'english', 'hurri': 'english', 'shame': 'english', 'corner': 'english', 'shut': 'english', 'thenc': 'english', 'valley': 'english', 'fat': 'english', 'built': 'english', 'across': 'english', 'lo': 'english', 'forti': 'english', 'appoint': 'english', 'frank': 'english', 'determin': 'english', 'greater': 'english', 'shoulder': 'english', 'heavi': 'english', 'jen': 'english', 'armi': 'english', '43': 'english', 'elder': 'english', 'usual': 'english', 'separ': 'english', 'road': 'english', 'hang': 'english', 'moon': 'english', 'glass': 'english', 'big': 'english', 'probabl': 'english', 'struck': 'english', 'arriv': 'english', 'border': 'english', 'lean': 'english', 'shout': 'english', 'villag': 'english', 'blind': 'english', 'buri': 'english', 'spring': 'english', 'luci': 'english', 'buster': 'english', 'drew': 'english', 'begat': 'english', 'flock': 'english', 'grass': 'english', 'belong': 'english', 'whatev': 'english', 'plant': 'english', 'rain': 'english', 'mention': 'english', 'goe': 'english', 'led': 'english', 'prison': 'english', 'dri': 'english', 'ceas': 'english', 'compass': 'english', 'exactli': 'english', 'nobodi': 'english', 'wors': 'english', 'around': 'english', 'neck': 'english', 'wash': 'english', '48': 'english', 'archer': 'english', 'attach': 'english', 'farmer': 'english', 'ha': 'english', 'divid': 'english', 'prove': 'english', 'afflict': 'english', 'flame': 'english', 'presenc': 'english', 'sheep': 'english', 'willoughbi': 'english', 'moreov': 'english', 'tent': 'english', 'journey': 'english', 'coast': 'english', 'wentworth': 'english', 'joshua': 'english', 'temper': 'english', 'astonish': 'english', 'feast': 'english', 'sorri': 'english', 'lower': 'english', 'slain': 'english', 'counten': 'english', 'refus': 'english', 'fail': 'english', 'perceiv': 'english', 'sudden': 'english', 'are': 'english', 'bath': 'english', 'such': 'english', 'aros': 'english', 'rule': 'english', 'aris': 'english', 'teach': 'english', 'woe': 'english', 'fled': 'english', 'dinner': 'english', 'pleasant': 'english', 'asham': 'english', 'finger': 'english'}\n"
     ]
    },
    {
     "ename": "ValueError",
     "evalue": "not enough values to unpack (expected 2, got 1)",
     "output_type": "error",
     "traceback": [
      "\u001b[0;31m---------------------------------------------------------------------------\u001b[0m",
      "\u001b[0;31mValueError\u001b[0m                                Traceback (most recent call last)",
      "Input \u001b[0;32mIn [27]\u001b[0m, in \u001b[0;36m<cell line: 2>\u001b[0;34m()\u001b[0m\n\u001b[1;32m      1\u001b[0m \u001b[38;5;28mprint\u001b[39m(featureset)\n\u001b[0;32m----> 2\u001b[0m classifier \u001b[38;5;241m=\u001b[39m \u001b[43mnltk\u001b[49m\u001b[38;5;241;43m.\u001b[39;49m\u001b[43mNaiveBayesClassifier\u001b[49m\u001b[38;5;241;43m.\u001b[39;49m\u001b[43mtrain\u001b[49m\u001b[43m(\u001b[49m\u001b[43mfeatureset\u001b[49m\u001b[43m)\u001b[49m\n",
      "File \u001b[0;32m/opt/miniconda3/envs/naturalLanguageP/lib/python3.9/site-packages/nltk/classify/naivebayes.py:210\u001b[0m, in \u001b[0;36mNaiveBayesClassifier.train\u001b[0;34m(cls, labeled_featuresets, estimator)\u001b[0m\n\u001b[1;32m    206\u001b[0m fnames \u001b[38;5;241m=\u001b[39m \u001b[38;5;28mset\u001b[39m()\n\u001b[1;32m    208\u001b[0m \u001b[38;5;66;03m# Count up how many times each feature value occurred, given\u001b[39;00m\n\u001b[1;32m    209\u001b[0m \u001b[38;5;66;03m# the label and featurename.\u001b[39;00m\n\u001b[0;32m--> 210\u001b[0m \u001b[38;5;28;01mfor\u001b[39;00m featureset, label \u001b[38;5;129;01min\u001b[39;00m labeled_featuresets:\n\u001b[1;32m    211\u001b[0m     label_freqdist[label] \u001b[38;5;241m+\u001b[39m\u001b[38;5;241m=\u001b[39m \u001b[38;5;241m1\u001b[39m\n\u001b[1;32m    212\u001b[0m     \u001b[38;5;28;01mfor\u001b[39;00m fname, fval \u001b[38;5;129;01min\u001b[39;00m featureset\u001b[38;5;241m.\u001b[39mitems():\n\u001b[1;32m    213\u001b[0m         \u001b[38;5;66;03m# Increment freq(fval|label, fname)\u001b[39;00m\n",
      "\u001b[0;31mValueError\u001b[0m: not enough values to unpack (expected 2, got 1)"
     ]
    }
   ],
   "source": [
    "print(featureset)\n",
    "classifier = nltk.NaiveBayesClassifier.train(featureset)"
   ]
  },
  {
   "cell_type": "markdown",
   "metadata": {},
   "source": []
  },
  {
   "cell_type": "code",
   "execution_count": null,
   "metadata": {},
   "outputs": [],
   "source": [
    "def document_features(document):\n",
    "    document_words = set(document)\n",
    "    features = {}\n",
    "    for word in words_without_sw:\n",
    "        features['contains({})'.format(word)] = (word in document_words)\n",
    "    return features"
   ]
  },
  {
   "cell_type": "code",
   "execution_count": null,
   "metadata": {},
   "outputs": [],
   "source": [
    "features = {}\n",
    "for word in corpus_words[:2000]:\n",
    "features[word] = 'english'\n",
    "        "
   ]
  },
  {
   "cell_type": "code",
   "execution_count": null,
   "metadata": {},
   "outputs": [],
   "source": [
    "words_test = nltk.corpus.brown.words()\n",
    "print(document_features(words_test))\n",
    "featuresets = [(document_features(d), c) for (d,c) in words_test]\n",
    "train_set, test_set = featuresets[100:], featuresets[:100]\n",
    "classifier = nltk.NaiveBayesClassifier.train(train_set)"
   ]
  }
 ],
 "metadata": {
  "kernelspec": {
   "display_name": "Python 3 (ipykernel)",
   "language": "python",
   "name": "python3"
  },
  "language_info": {
   "codemirror_mode": {
    "name": "ipython",
    "version": 3
   },
   "file_extension": ".py",
   "mimetype": "text/x-python",
   "name": "python",
   "nbconvert_exporter": "python",
   "pygments_lexer": "ipython3",
   "version": "3.9.13"
  }
 },
 "nbformat": 4,
 "nbformat_minor": 1
}
