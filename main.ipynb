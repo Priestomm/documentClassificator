{
 "cells": [
  {
   "cell_type": "markdown",
   "metadata": {},
   "source": [
    "# Imports\n",
    "We import the packages that include corpora, tokenizer, lemmatizer and stemmer"
   ]
  },
  {
   "cell_type": "code",
   "execution_count": 30,
   "metadata": {},
   "outputs": [],
   "source": [
    "import random\n",
    "import math\n",
    "import collections\n",
    "import nltk\n",
    "import string\n",
    "from nltk.tokenize import word_tokenize\n",
    "from nltk.stem import WordNetLemmatizer\n",
    "from nltk.stem import PorterStemmer\n",
    "from nltk.corpus import EuroparlCorpusReader"
   ]
  },
  {
   "cell_type": "markdown",
   "metadata": {},
   "source": [
    "# Import stopwords, punctuations and the first 10000 number in order to remove them from the BOW\n",
    "\n",
    "They don't have informative meaning for our purpose"
   ]
  },
  {
   "cell_type": "code",
   "execution_count": 3,
   "metadata": {},
   "outputs": [],
   "source": [
    "languages = ['english', 'italian', 'spanish', 'dutch', 'german', 'portuguese', 'finnish', 'swedish', 'greek']\n",
    "numbers = []\n",
    "for number in range(10000):\n",
    "    numbers.append(str(number))\n",
    "stop_words = list(nltk.corpus.stopwords.words(lang) for lang in languages)\n",
    "punctuation = string.punctuation\n"
   ]
  },
  {
   "cell_type": "markdown",
   "metadata": {},
   "source": [
    "Initialize stemmer and lemmatizer"
   ]
  },
  {
   "cell_type": "code",
   "execution_count": 4,
   "metadata": {},
   "outputs": [
    {
     "name": "stdout",
     "output_type": "stream",
     "text": [
      "19990\n",
      "29109\n"
     ]
    }
   ],
   "source": [
    "\n",
    "root = '/Users/tommasodelprete/nltk_data/corpora/europarl_raw/'\n",
    "\n",
    "english = EuroparlCorpusReader(root, '.*\\.en')\n",
    "documents = list()\n",
    "for fileid in english.fileids():\n",
    "    for sentence in english.raw(fileid).split('\\n'):\n",
    "        documents.append((sentence, 'eng'))\n",
    "\n",
    "print(len(documents))\n",
    "prefToLang = {'da':'danish', 'nl':'dutch', 'fi':'finnish', 'de':'german', 'fr':'french', 'it':'italian', 'pt':'portuguese', 'el':'greek', 'es':'spanish', 'sv':'swedish'}\n",
    "\n",
    "for lang in prefToLang.keys():\n",
    "    non_english = EuroparlCorpusReader(root, \".*\\.{}\".format(lang))\n",
    "    for sentence in non_english.raw(f'{prefToLang[lang]}/ep-00-01-17.{lang}').split('\\n'):\n",
    "        documents.append((sentence, 'noteng'))\n",
    "\n",
    "print(len(documents))\n",
    "random.shuffle(documents)"
   ]
  },
  {
   "cell_type": "code",
   "execution_count": 5,
   "outputs": [],
   "source": [
    "stemmer = PorterStemmer()\n",
    "lemmatizer = WordNetLemmatizer()"
   ],
   "metadata": {
    "collapsed": false
   }
  },
  {
   "cell_type": "markdown",
   "metadata": {},
   "source": [
    "Fetch the corpus I'll use as training set"
   ]
  },
  {
   "cell_type": "code",
   "execution_count": 6,
   "metadata": {},
   "outputs": [],
   "source": [
    "words = list()\n",
    "for document in documents:\n",
    "    for word in word_tokenize(document[0]):\n",
    "        words.append(word)\n",
    "\n",
    "words_without_sw = []"
   ]
  },
  {
   "cell_type": "markdown",
   "metadata": {},
   "source": [
    "# Stemming, lemmatization and removing stopwords, punctuation and numbers from the words we imported"
   ]
  },
  {
   "cell_type": "code",
   "execution_count": 7,
   "metadata": {},
   "outputs": [],
   "source": [
    "for word in words:\n",
    "    if word not in stop_words and word not in punctuation and word not in numbers:\n",
    "        # print(f\"{word} : {lemmatizer.lemmatize(word)} : {stemmer.stem(lemmatizer.lemmatize(word))}\")\n",
    "        words_without_sw.append(lemmatizer.lemmatize(stemmer.stem(word)))\n"
   ]
  },
  {
   "cell_type": "markdown",
   "source": [
    "# We compute the probability of the words in our corpora, then store the first most frequent 5000 in a list"
   ],
   "metadata": {
    "collapsed": false
   }
  },
  {
   "cell_type": "code",
   "execution_count": 8,
   "metadata": {},
   "outputs": [
    {
     "name": "stdout",
     "output_type": "stream",
     "text": [
      "['the', 'of', 'to', 'a', 'and', 'in', 'is', 'that', 'de', 'i', 'thi', 'for', 'we', 'it', 'on', 'be', 'which', 'are', 'not', 'have', 'with', 'la', 'will', 'european', 'by', 'ha', 'at', 'commiss', 'mr', 'en', 'que', 'all', 'an', 'would', 's', 'do', 'e', 'also', 'but', 'union', 'presid', 'should', 'le', 'state', 'can', 'no', 'must', 'our', 'there', 'you', 'parliament', 'from', 'been', 'member', 'these', 'polici', 'die', 'der', 'or', 'more', 'wa', 'like', 'region', 'what', 'council', 'one', 'van', 'propos', 'countri', 'report', 'need', 'develop', 'import', 'o', 'europ', 'if', 'so', 'right', 'da', 'veri', 'social', 'they', 'den', 'their', 'other', 'det', 'het', 'commun', 'my', 'make', 'di', 'issu', 'l', 'take', 'se', 'programm', 'u', 'area', 'concern', 'att', 'new', 'et', 'work', 'και', 'el', 'about', 'onli', 'question', 'commission', 'un', 'time', 'point', 'να', 'lo', 'om', 'peopl', 'som', 'therefor', 'who', 'y', 'amend', 'year', 'am', 'og', 'group', 'och', 'debat', 'direct', 'ja', 'becaus', 'er', 'when', 'say', 'und', 'now', 'between', 'up', 'support', 'il', 'into', 'ani', 'problem', 'à', 'some', 'out', 'way', 'del', 'της', 'eu', 'polit', 'such', 'fact', 'nation', 'posit', 'committe', 'την', 'just', 'regard', 'howev', 'use', 'på', 'govern', 'vi', 'me', 'che', 'made', 'first', '``', 'within', 'econom', 'were', 'those', 'intern', 'fund', 'over', 'est', 'them', 'para', 'want', 'possibl', 'af', 'part', 'situat', 'come', 'think', 'för', 'under', 'vote', 'al', 'dat', 'των', 'η', 'than', 'respons', 'present', 'med', 'market', 'even', 'mani', 'initi', 'action', 'believ', 'per', 'por', 'principl', 'har', 'view', 'aid', 'transport', 'where', 'inform', 'relat', 'treati', 'case', 'protect', 'doe', 'most', 'human', 'term', 'could', 'your', 'alreadi', 'object', 'water', 'd', 'go', 'effect', 'adopt', 'implement', 'matter', 'agreement', 'measur', 'av', 'here', 'een', 'order', 'decis', 'για', 'see', 'legal', 'today', 'two', 'too', 'how', 'system', 'financi', 'cours', 'give', 'το', 'että', 'public', 'respect', 'cooper', 'mean', 'level', 'ensur', 'good', 'had', 'still', 'competit', 'then', 'discus', 'includ', 'know', 'said', 'may', 'against', 'well', 'thank', 'process', 'hope', 'author', 'provid', 'ask', 'structur', 'same', 'last', 'common', 'resolut', 'institut', 'citizen', 'una', 'much', 'employ', 'put', 'futur', 'place', 'clear', 'regul', 'til', 'legisl', 'whi', 'ik', 'dell', 'establish', 'jag', 'rapporteur', 'particular', 'parti', 'own', 'ce', 'exampl', 'hi', 'abl', 'interest', 'he', 'set', 'reform', 'both', 'secur', 'world', 'sector', 'creat', 'rule', 'particularli', 'gener', 'increas', 'madam', 'του', 'given', 'differ', 'continu', 'jeg', 'achiev', 'te', 'dan', 'voor', 'repres', 'involv', 'taken', 'far', 'chang', 'law', 'consid', 'opinion', 'ich', 'specif', 'που', 'requir', 'är', 'si', 'em', 'du', 'sinc', 'befor', 'certain', 'θα', 'hous', 'project', 'final', 'major', 'subject', 'procedur', 'reason', 'appli', 'zu', 'refer', 'nou', 'mention', 'end', 'con', 'result', 'rural', 'great', 'με', 'environment', 'um', 'number', 'cultur', 'democrat', 'improv', 'again', 'opportun', 'industri', 'express', 'articl', 'accept', 'op', 'account', 'president', 'whether', 'base', 'allow', 'je', 'daß', 'wish', 'contribut', 'plan', 'freedom', 'pour', 'role', 'current', 'agre', 'framework', 'deal', 'without', 'für', 'follow', 'control', 'till', 'few', 'equal', 'necessari', 'une', 'kan', 'next', 'negoti', 'shall', 'form', 'instrument', 'forc', 'tourism', 'met', 'ein', 'kommissionen', 'europa', 'promot', 'είναι', 'activ', 'non', 'basi', 'environ', 'confer', 'von', 'accord', 'look', 'na', 'resourc', 'unit', 'herr', 'welcom', 'natur', 'help', 'local', 'wir', 'servic', 'è', 'affair', 'fundament', 'hand', 'behalf', 'car', 'qui', 'kosovo', 'men', 'τις', 'toward', 'agenda', 'organis', 'product', 'parlamento', 'approv', 'manag', 'della', 'word', 'after', 'ότι', 'yet', 'especi', 'done', 'quit', 'second', 'period', 'variou', 'start', 'through', 'enlarg', 'como', 'condit', 'justic', 'extrem', 'thing', 'becom', 'integr', 'someth', 'call', 'long', 'applic', 'effort', 'whole', 'valu', 'uma', 'dure', 'favour', 'court', 'sobr', 'σε', 'prevent', 'find', 'cost', 'exist', 'anoth', 'compani', 'awar', 'talk', 'clearli', 'não', 'man', 'από', 'sen', 'approach', 'au', 'τα', 'million', 'τη', 'com', 'addit', 'ikk', 'prodi', 'woman', 'guarante', 'each', 'mai', 'strategi', 'safeti', 'consider', 'esta', 'itself', 'life', 'demand', 'close', 'dit', 'access', 'zijn', 'su', 'meet', 'economi', 'live', 'aim', 'pay', 'budget', 'commit', 'carri', 'caus', 'ist', 'ett', 'vil', 'rather', 'appropri', 'é', 'day', 'recent', 'job', 'tax', 'aan', 'statement', 'attent', 'onc', 'understand', 'step', 'oper', 'seriou', 'prepar', 'leader', 'open', 'happen', 'στην', 'inde', 'text', 'idea', 'practic', 'further', 'ne', 'act', 'essenti', 'trade', 'dem', 'οι', 'convent', 'line', 'forward', 'nicht', 'togeth', 'austria', 'down', 'sur', 'did', 'power', 'int', 'provis', 'real', 'risk', 'greater', 'everi', 'dei', 'let', 'peac', 'niet', \"'s\", 'draft', 'auf', 'feel', 'actual', 'intend', 'larg', 'limit', 'certainli', 'minist', 'guidelin', 'senhor', 'política', 'document', 'joint', 'health', 'person', 'solut', 'δεν', 'gentleman', 'urban', 'central', 'ao', 'rais', 'invest', 'ladi', 'transpar', 'agricultur', 'commissi', 'face', 'alla', 'pa', 'parlement', 'deze', 'progress', 'prioriti', 'address', 'better', 'assist', 'crimin', 'conclus', 'kind', 'lack', 'alway', 'comissão', 'αυτό', 'firstli', 'affect', 'portugues', 'qu', 'least', 'success', 'disast', 'societi', 'consequ', 'comisión', 'food', 'share', 'comment', 'energi', 'although', 'name', 'ook', 'reach', 'three', 'back', 'aspect', 'produc', 'realli', 'difficult', 'bring', 'reduc', 'mind', 'worden', 'coordin', 'im', 'lead', 'sie', 'busi', 'seem', 'administr', 'special', 'task', 'rapport', 'auch', 'complet', 'high', '\\xad', 'individu', 'type', 'qualiti', 'intergovernment', 'koch', 'month', 'get', 'small', 'coher', 'context', 'todo', 'request', 'remain', 'expect', 'entr', 'par', 'cypru', 'democraci', 'danger', 'begin', 'receiv', 'standard', 'often', 'hr', 'wij', 'event', 'mi', 'play', 'field', 'basic', 'free', 'avail', 'particip', 'kommiss', 'money', 'speak', 'ma', 'answer', 'recognis', 'consum', 'past', 'mit', 'eur', 'schroedter', 'ei', 'ou', 'move', 'upon', 'might', 'while', 'werden', 'regional', '2000-2006', 'popul', 'n', 'detta', 'sure', 'han', 'dialogu', 'tabl', 'τον', 'her', 'precis', 'third', 'financ', 'grant', 'sustain', 'introduc', 'war', 'tri', 'secondli', 'charter', 'combat', 'singl', 'total', 'demonstr', 'simpli', 'technic', 'challeng', 'week', 'monitor', 'denn', 'fru', 'stress', 'cohes', 'remind', 'paper', 'eller', 'fulli', 'previou', 'decid', 'best', 'unfortun', 'plea', 'doubt', 'noth', 'show', 'cover', 'moment', 'plu', 'benefit', 'στο', 'contain', 'manufactur', 'construct', 'vill', 'ass', 'fight', 'má', 'stand', 'encourag', 'ourselv', 'full', 'note', 'dett', 'région', 'vou', 'nu', 'due', 'ad', 'unemploy', 'austrian', 'care', 'myö', 'interreg', 'sever', 'parlamentet', 'enough', 'programa', 'longer', 'wil', 'heeft', 'τους', 'elect', 'conflict', 'nevertheless', 'mere', 'perhap', 'harmonis', 'balanc', 'associ', 'amsterdam', 'komi', 'suggest', 'crime', 'arvoisa', 'bodi', 'main', 'bear', 'ο', 'constitut', 'regioni', 'congratul', 'door', 'fondo', 'dy', 'στις', 'stabil', 'berend', 'draw', 'colleagu', 'immigr', 'sig', 'europe', 'strengthen', 'littl', 'offici', 'moeten', 'amount', 'grand', 'c', 'turkey', 'effici', 'excel', 'ago', 'fond', 'train', 'regiõ', 'intent', 'også', 'criterion', 'pollut', 'så', 'experi', 'read', 'también', 'critic', 'tell', 'fall', 'président', 'também', 'partnership', 'sono', 'capit', 'motion', 'foreign', 'επιτροπή', 'worker', 'damag', 'indic', 'item', 'build', 'turn', 'solidar', 'offer', 'skal', 'sind', 'five', 'relatório', 'detail', 'confid', 'voorzitt', 'minor', 'verslag', 'bij', 'hold', 'key', 'absolut', 'crucial', 'model', 'europea', 'consist', 'monsieur', 'important', 'off', 'fra', 'extend', 'abov', 'stage', 'french', 'examin', 'oblig', 'proper', 'maintain', 'though', 'factor', 'regio', 'modo', 'exchang', 'civil', 'recommend', 'grupo', 'wie', 'resolv', 'μας', 'sua', 'regionen', 'seen', 'questo', 'soon', 'connect', 'fair', 'ser', 'πρέπει', 'onorevol', 'tomorrow', 'politiqu', 'intervent', 'punto', 'difficulti', 'nor', 'parlament', 'cen', 'compet', 'κατά', 'substanc', 'enabl', 'relev', 'four', 'κύριε', 'senhora', 'offic', 'cett', 'link', 'concentr', 'whose', 'extent', 'euro', 'speaker', 'bericht', 'mijnheer', 'relazion', 'restrict', 'independ', 'themselv', 'despit', 'conclud', 'global', 'εν', 'list', 'fail', 'submit', 'franc', 'tout', 'skull', 'señor', 'left', 'fundo', 'anch', 'flexibl', 'observ', 'keep', 'jo', 'defin', 'signific', 'sign', 'socialist', 'dessa', 'esto', 'σας', 'him', 'border', 'judici', 'side', 'never', 'μια', 'until', 'jäsen', 'sich', 'ground', 'renew', 'oil', 'definit', 'compromis', 'price', 'held', 'estado', 'transfer', 'origin', 'true', 'vehicl', 'nell', 'στη', 'sit', 'ten', 'hebben', 'content', 'territori', 'wird', 'ovat', 'min', 'potenti', 'poverti', 'exclus', 'formand', 'aux', 'technolog', 'white', 'honour', 'pas', 'consult', 'skall', 'οποία', 'unionen', 'möchte', 'från', 'reflect', 'kun', 'puhemi', 'minut', 'hat', 'movement', 'declar', 'deputado', 'speech', 'everyon', 'πρόεδρε', 'she', 'maar', 'talman', 'highlight', 'μου', 'ai', 'throughout', 'add', 'overal', 'impact', 'reject', 'entir', 'light', 'found', 'currenc', 'island', 'discharg', 'undertak', 'confirm', 'igc', 'furthermor', 'president-in-offic', 'acp', 'i.e', 'labour', 'everyth', 'function', 'urgent', 'più', 'denna', 'macedonia', 'either', 'home', 'europeo', 'zur', 'frau', 'tämä', 'assembl', 'bei', 'när', 'purpos', 'son', 'among', 'bien', 'ont', 'muito', 'euroopan', 'deleg', 'globalis', 'mål', 'behind', 'punkt', 'element', 'attempt', 'brought', 'alloc', 'colega', 'unaccept', 'seek', 'recycl', 'quickli', 'nel', 'erika', 'orient', 'emphasis', 'republ', 'hier', 'europeiska', 'statu', 'också', 'programma', 'date', 'suffici', 'urg', 'thu', 'strateg', 'myself', 'condemn', 'ought', 'defend', 'chanc', 'discrimin', 'país', 'kommer', 'hear', 'einer', 'growth', 'privat', 'måste', 'assur', 'outsid', 'zone', 'land', 'stati', 'repeat', 'africa', 'appear', 'stop', 'minimum', 'été', 'sourc', 'goal', 'except', 'kunnen', 'über', 'ved', 'signor', 'ni', 'justifi', 'heard', 'analys', 'structurel', 'dieser', 'converg', 'gern', 'huge', 'expert', 'depend', 'immedi', 'head', 'convinc', 'instead', 'prove', 'china', 'haben', 'monetari', 'tot', 'desir', 'occur', 'paragraph', 'ever', '000', 'enorm', 'obvious', 'proposta', 'authoris', 'road', 'επιτροπής', 'mig', 'scope', 'tale', 'studi', 'caso', 'rate', 'meget', 'target', 'strong', 'away', 'vital', 'incorpor', 'var', 'j', 'analysi', 'collect', 'join', 'politica', 'parliamentari', 'mycket', 'determin', 'λόγω', 'moet', 'polic', 'former', 'februari', 'ant', 'occas', 'europæisk', 'haider', 'gli', 'nog', 'subsidiar', 'research', 'ell', 'mevrouw', 'sort', 'gäller', 'contrari', 'modernis', 'investig', 'materi', 'siitä', 'port', 'leav', 'ship', 'refuge', 'violat', 'child', 'wenn', 'helsinki', 'led', 'dere', 'code', 'fondi', 'circumst', 'januari', 'nato', 'program', 'dis', 'foi', 'instanc', 'old', 'os', 'infrastructur', 'delay', 'evan', 'spirit', 'explain', 'beyond', 'ole', 'concili', 'serious', 'thought', 'creation', 'send', 'tämän', 'sin', 'κυρία', 'cross-bord', 'partner', 'innov', 'god', 'avoid', 'sehr', 'porqu', 'emerg', 'κ.', 'quanto', 'πολύ', 'network', 'gostaria', 'yesterday', 'duti', 'decemb', 'palacio', 'ambiti', 'suffer', 'histori', 'beleid', 'voudrai', 'όπως', 'arrang', 'probabl', 'enter', 'press', 'liber', 'objectivo', 'européenn', 'regionalpolitik', 'princip', 'dimens', 'proceed', 'uni', 'seu', 'αυτή', 'mijn', 'realiti', 'balkan', 'save', 'forma', 'budgetari', 'objetivo', 'ue', 'état', 'run', 'dealt', 'concept', 'design', 'medida', 'lugar', 'goe', 'fear', 'haluaisin', 'sitä', 'safeguard', 'ήθελα', 'review', 'oppos', 'citi', 'mein', 'correct', 'kolleg', 'união', 'dag', 'similar', 'jotka', 'nella', 'messag', 'sviluppo', 'forbindels', 'argument', 'mechan', 'år', 'almost', 'pension', 'έκθεση', 'identifi', 'wale', 'unionin', 'green', 'wordt', 'billion', 'wat', 'fait', 'relationship', 'fraud', 'ecolog', 'sensit', 'στα', 'tanto', 'lot', 'march', 'sea', 'europeu', 'malta', 'leur', 'comprehens', 'sia', 'fish', 'session', 'vore', 'tai', 'pelo', 'via', 'precautionari', 'heart', 'régional', 'avec', 'storm', 'around', 'impos', 'være', 'liabil', 'concret', 'leitlinien', 'desenvolvimento', 'ihr', 'east', 'centuri', 'europäischen', 'interpret', 'capac', 'brussel', 'rel', 'serv', 'crisi', 'enterpris', 'bank', 'topic', 'fulfil', 'lidstaten', 'knowledg', 'threat', 'climat', 'conduct', 'short', 'gain', 'farmer', 'directli', 'manner', 'attitud', 'objectif', 'scheme', 'nuclear', 'centr', 'tradit', 'refus', 'cui', 'exercis', 'annual', 'sanction', 'inspect', 'excess', 'développ', 'sont', 'applaus', 'remark', 'complex', 'permit', 'gave', 'período', 'morn', 'nur', 'employe', 'genuin', 'distribut', 'vid', 'barón', 'contradict', 'pressur', 'orientaçõ', 'wast', 'rang', 'mep', 'unanim', 'extern', 'listen', 'efter', 'adequ', 'firm', 'long-term', 'restor', 'ethnic', 'mutual', 'europeia', 'sr.', 'era', 'económica', 'vez', 'unión', 'suppli', 'arm', 'wait', 'anyth', 'quando', 'está', 'itali', 'properli', 'spend', 'emploi', 'obviou', 'earlier', 'επίσης', 'invit', 'heer', 'estruturai', 'zona', 'rightli', 'vor', 'educ', 'hvi', 'forget', 'prosecutor', 'desarrollo', 'accid', 'fellow', 'thirdli', 'facto', 'également', 'zal', 'já', 'histor', 'wonder', 'neighbour', 'albanian', 'shown', 'richtsnoeren', 'six', 'ta', 'direttrici', 'inom', 'präsident', 'barnier', 'chamber', 'realis', 'ένα', 'strand', 'adapt', 'famili', 'm.', 'nonetheless', 'nach', 'grupp', 'outcom', 'muy', 'regret', 'degre', 'reserv', 'oral', 'later', 'embargo', 'respond', 'revis', 'tackl', 'focu', 'claim', 'perspect', 'spain', 'return', 'unser', 'noch', 'oder', 'profit', 'collega', 'estructural', 'être', 'strutturali', 'willen', 'crespo', 'ponto', 'arriv', 'anim', 'moreov', 'regim', 'stato', 'medium', 'phase', 'diver', 'membri', 'appreci', 'μία', 'victim', 'quiero', 'counterfeit', 'miembro', 'simpl', 'alueiden', 'às', 'emprego', 'problema', 'directiva', 'hard', 'otherwis', 'defenc', 'turkish', 'broad', 'tamper', 'cut', 'nossa', 'deriv', 'incom', 'decision-mak', 'yugoslavia', 'joka', 'membr', 'option', 'tobin', 'derfor', 'figur', 'pero', 'extens', 'rememb', 'portug', 'judg', 'diesem', 'onz', 'parlamentin', 'trabalho', 'restructur', 'succeed', 'esser', 'sound', 'zou', 'meer', 'därför', 'maritim', 'farligt', 'threaten', 'drawn', 'young', 'learn', 'seguridad', 'mener', 'communautair', 'sätt', 'αφορά', 'hensyn', 'elig', 'took', 'bem', 'rise', 'zum', 'ένωσης', 'segurança', 'separ', 'εάν', 'sein', 'greec', 'amongst', 'so-cal', 'neg', 'exactli', 'clarifi', 'impress', 'vista', 'ii', 'ireland', 'flag', 'meidän', 'earli', 'summit', 'scale', 'prefer', 'scientif', 'known', 'specul', 'ή', 'einen', 'dispos', 'prosper', 'müssen', 'insist', 'forthcom', 'across', 'zich', 'round', 'roll', 'poor', 'section', 'regionerna', 'credibl', 'entwicklung', 'στον', 'formal', 'card', 'lavoro', 'ontwikkel', 'serbia', 'sui', 'qual', 'favor', 'announc', 'toda', 'publish', 'momento', 'σχετικά', 'solv', 'ως', 'sicurezza', 'tal', 'vervoer', 'pursu', 'charg', 'empleo', 'lomé', 'method', 'können', 'uit', 'pela', 'trabajo', 'alon', 'señoría', 'comm', 'campaign', 'henc', 'får', 'medium-s', 'thousand', 'enforc', 'fr', 'även', 'anyon', 'assum', 'degli', 'evalu', 'promis', 'meno', 'politik', 'opposit', 'reinforc', 'wide', 'unabl', 'repli', 'militari', 'ze', 'ident', 'γεγονός', 'περιφέρειες', 'germani', 'έχει', 'co', 'aber', 'deserv', 'nieuw', 'swoboda', 'laid', 'supervis', 'même', 'niiden', 'compli', 'lie', 'monopoli', 'select', 'influenc', 'ter', 'structuurfondsen', 'feedingstuff', 'decentralis', 'evid', 'acknowledg', 'along', 'neither', 'deliv', 'advanc', 'steel', 'obtain', 'remot', 'attach', 'south', 'sekä', 'seri', 'grow', 'treat', 'señora', 'ander', 'heritag', 'internet', 'hun', 'candid', 'prison', 'test', 'violenc', 'tourist', 'maximum', 'substanti', 'higher', 'essa', 'isol', 'etc', 'mark', 'worri', 'post', 'αλλά', 'sovereignti', 'mutta', 'οποίες', 'relativa', 'κοινοβούλιο', 'letter', 'es', 'directric', 'hecho', 'envisag', 'septemb', 'onorevoli', 'trasporti', 'engag', 'facilit', 'sécurité', 'ban', 'olaf', 'american', 'stabilis', 'belong', 'questa', 'toler', 'describ', 'européen', 'vain', 'national', 'elimin', 'uno', 'p.m', 'visit', 'mainli', 'vara', 'decad', 'hyvin', 'mitgliedstaaten', 'sometim', 'export', 'daarom', 'coesão', 'b', 'patten', 'proposit', 'version', 'happi', 'koska', 'cod', 'grave', 'clean', 'age', 'cohésion', 'rapid', 'death', 'voi', 'få', 'altern', 'coesion', 'mio', 'mandat', 'expenditur', 'lost', 'approxim', 'udvikl', 'paid', 'collègu', 'μεταξύ', 'feder', 'mine', 'data', 'há', 'univers', 'explan', 'ci', 'cohesión', 'truli', 'poetter', 'whom', 'xenophobia', 'gruppo', 'sulla', 'nuestra', 'record', 'υπόψη', 'eerst', 'trè', 'attack', 'komissio', 'appeal', 'introduct', 'año', 'incid', 'launch', 'sent', 'corrupt', 'sphere', 'translat', 'abil', 'exploit', 'donc', 'emphasi', 'ya', 'kann', 'vielä', 'zeer', 'unless', 'fracti', 'endors', 'wit', 'racism', 'ec', 'highli', 'aumento', 'ano', 'fine', 'niveau', 'check', 'strict', 'easi', 'γραμμές', 'signora', 'notr', 'naar', 'staff', 'imposs', 'remov', 'timet', 'reduct', 'προς', 'tipo', 'ponent', 'asylum', 'strukturfond', 'prospect', 'länder', 'prioridad', 'ignor', 'empresa', 'där', 'overcom', 'italian', 'huomioon', 'dire', 'packag', 'här', 'ahead', 'medlemsstatern', 'lisbon', 'choic', 'siihen', 'apart', 'κράτη', 'rest', 'capabl', 'plenari', 'greek', 'ultim', 'burden', 'sige', 'questão', 'half', 'angola', 'hur', 'lienemann', 'når', 'reiter', 'kuin', 'zoal', 'tanker', 'commissario', 'strukturfonderna', 'meu', 'θέμα', 'late', 'zo', 'πολιτική', 'contact', 'correspond', 'quot', 'lhe', 'τρόπο', 'qualifi', 'merger', 'são', 'λόγο', 'failur', 'tussen', 'tutti', 'bara', 'preserv', 'μέλη', 'voto', 'novemb', '12.00', 'merci', 'transit', 'sillä', 'advoc', 'sole', 'apena', 'low', 'ambit', 'stipul', 'économiqu', 'fyrom', 'sido', 'travail', 'await', 'formul', 'compens', 'aris', 'ziel', 'combin', 'έχουν', 'consensu', 'dam', 'hour', 'vilja', 'seattl', 'mon', 'betänkand', 'jotta', 'codecis', 'propuesta', 'exclud', 'uw', 'spanish', 'came', 'olemm', 'compar', 'entitl', 'ye', 'donor', 'enmienda', 'estados-membro', 'siksi', 'river', 'hvor', 'κατευθυντήριες', 'appoint', 'συζήτηση', 'entail', 'contin', 'cuenta', 'betænkn', 'categori', 'israel', 'mccarthi', 'advis', 'επί', 'plant', 'segundo', 'asia', 'catastroph', 'mehr', 'ciò', 'muß', 'readi', 'june', 'commissari', 'dal', 'συνοχής', 'stock', 'resid', 'niin', 'cuba', 'όμως', 'wrong', 'vigor', 'europol', 'exempt', 'spent', 'end-of-lif', 'reconstruct', 'therebi', 'commissair', 'german', 'geneva', 'taxat', 'hanno', 'norm', 'civilis', 'riktlinjerna', 'delight', 'middl', 'root', 'andersson', 'obstacl', 'kuitenkin', 'olisi', 'perfectli', 'blev', 'brief', 'dalla', 'british', 'underli', 'denmark', 'pre-access', 'tien', 'lang', 'wulf-mathi', 'briefli', 'retningslinjern', 'ben', 'millennium', 'aussi', 'presenc', 'haar', 'mellan', 'abus', 'conserv', 'colleghi', 'commerci', 'kingdom', 'certainti', 'fruteau', 'languag', 'nest', 'ainda', 'rich', 'tunnel', 'regionern', 'ho', 'sentido', 'recognit', 'geen', 'así', 'prime', 'nya', 'olen', 'tässä', 'περιφερειών', 'sålede', 'aspecto', 'arbejd', 'gender', 'økonomisk', 'eftersom', 'enhanc', 'estim', 'nyt', 'kort', '...', 'releas', 'logic', 'estamo', 'ήταν', 'resultado', 'werkgelegenheid', 'jonka', 'processo', 'block', 'appar', 'reaction', 'protocol', 'born', 'agenc', 'sul', 'pact', 'último', 'investor', 'tutto', 'auditor', 'damit', 'hulten', 'sri', 'alcohol', 'chine', 'loss', 'sull', 'eastern', 'advantag', 'grund', 'satisfi', 'esa', 'lastli', 'punt', 'somewhat', 'farm', 'perman', 'radic', 'loro', 'surround', 'inden', 'russian', 'utveckl', 'consolid', 'prior', 'artikel', 'lay', 'gøre', 'front', 'whilst', 'ανάπτυξης', 'featur', 'numer', 'serb', 'tage', 'lose', 'cela', 'vad', 'werk', 'dispar', 'voic', 'particolar', 'mellem', 'principio', 'ratifi', 'economisch', 'greatest', 'maggior', 'durch', 'fråga', 'kollegen', 'subsequ', 'μεταφορών', 'count', 'focus', 'presidenta', 'tool', 'dar', 'big', 'mesur', 'town', 'göra', 'harm', 'properti', 'floor', 'reken', 'confus', 'hatzidaki', 'wors', 'store', 'journalist', 'steun', 'outlin', 'increasingli', 'afford', 'futuro', 'echter', 'destroy', 'clarif', 'endeavour', 'grate', 'ανάπτυξη', 'gradual', 'easier', 'weg', 'onder', 'scienc', 'signal', 'paesi', 'bse', 'fazer', 'vessel', 'första', 'highest', 'vatanen', 'behaviour', 'prima', 'sólo', 'programmi', 'paí', 'danish', 'mercancía', 'sempr', 'juli', 'upp', 'ihnen', 'bad', 'north', 'treatment', 'genom', 'insbesonder', 'dest', 'ucit', 'manièr', 'sweden', 'urgenc', 'hyvät', 'säga', 'già', 'nei', 'berlin', 'kouchner', 'inequ', 'notic', 'offenc', 'xenophob', 'iii', 'hundr', 'tempo', 'distort', 'belang', 'präsidentin', 'feed', 'uniform', 'latter', 'giorno', 'ordem', 'christian', 'isra', 'deadlin', 'nye', 'medlemsstaterna', 'seja', 'matièr', 'zero', 'romano', 'avon', 'πολιτικής', 'exig', 'ændringsforslag', 'acqui', 'absenc', 'legitim', 'membership', 'closer', 'strukturfonden', 'bind', 'fraktion', 'penalti', 'einem', 'jour', 'sagen', 'morgen', 'kollega', 'osalta', 'solo', 'wurd', 'payment', 'disappoint', 'elsewher', 'experienc', 'conta', 'undertaken', 'sum', 'gang', 'ταμείων', 'shape', 'deni', 'imagin', 'moral', 'transact', 'immer', 'board', 'πως', 'esittelijä', 'trend', 'soit', 'channel', 'molto', 'ωστόσο', 'kuten', 'inclus', 'confin', 'periódico', 'break', 'näin', 'surfac', 'spørgsmål', 'ordin', 'scrapi', 'desd', 'dia', 'utan', 'lesson', 'weak', 'competitividad', 'zij', 'rede', 'situati', 'compon', 'tou', 'heb', 'atenção', 'locat', 'gran', 'näiden', 'obiettivo', 'disadvantag', 'quest', 'cypriot', 'accus', 'territorio', 'parlamentti', 'worth', 'mitä', 'ekonomiska', 'deficit', 'papel', 'oportunidad', 'peligrosa', 'strongli', 'mayor', 'κοινοβουλίου', 'stor', 'wider', 'διαρθρωτικών', 'pericolos', 'pertanto', 'ejido', 'racist', 'kinnock', 'systemat', 'retningslinj', 'asset', 'débat', 'pure', 'terribl', 'interven', 'betrek', 'rout', 'hvad', 'warn', 'cada', 'vilket', 'damer', 'cox', 'votr', 'herrn', 'miss', 'fisheri', 'ngo', 'gevaarlijk', 'normal', 'rail', 'αυτά', 'retain', 'attend', 'inevit', 'built', 'implic', 'format', 'einig', 'scandal', 'judgement', 'dall', 'phenomenon', 'marchandis', 'whatev', 'andra', 'weaken', 'chairman', 'news', 'firmli', 'alleen', 'lanka', 'allianc', 'underlin', 'illeg', 'wealth', 'tema', 'admit', 'pobr', 'foot', 'εργασίας', 'utilis', 'wipo', 'allt', 'särskilt', 'occupazion', 'averag', 'pillar', 'motivo', 'eye', 'perform', 'første', 'οποίο', 'nogl', 'spoke', 'día', 'støtte', 'kanssa', 'cuando', 'zwischen', 'depart', 'hänsch', 'sensibl', 'υπάρχει', 'πιο', 'mercadoria', 'perigosa', 'rigor', 'autr', 'truth', 'trust', 'octob', 'sobretudo', 'orientacion', 'des', 'rapporten', 'riktlinj', 'ευρωπαϊκής', 'ομάδα', 'regionala', 'ultraperiférica', 'seven', 'profession', 'dangereus', 'necessarili', 'maken', 'sociala', 'finish', 'modern', 'periodo', 'fase', 'facil', 'domin', 'ordr', 'blevet', 'replac', 'mistak', 'quota', 'suspend', 'touch', 'stem', 'valid', 'subsidi', 'sincer', 'samt', 'talus', 'aqui', 'belangrijk', 'något', 'surpris', 'anticip', 'southern', 'volta', 'direttiva', 'regiona', 'hay', 'coupl', 'cinco', 'disappear', 'sexto', 'gaat', 'forslag', 'weapon', 'agli', 'revers', 'safe', 'brok', 'tener', 'denk', 'mene', 'travel', 'acuerdo', 'mission', 'incent', 'sådan', 'vigtigt', 'persist', 'divid', 'geograph', 'depriv', 'clariti', 'chemic', 'landen', 'må', 'palestinian', 'wto', 'courag', 'mich', 'aspir', 'quelqu', 'grado', 'kommissionär', 'gaan', 'west', 'situación', 'insur', 'aantal', 'ändringsförslag', 'ganz', 'fatto', 'costa', 'none', 'statist', 'ohjelmien', 'εδώ', 'danub', 'darauf', '00', 'problemen', 'settor', 'taxpay', 'våra', 'orden', 'heut', 'complic', 'över', 'mediterranean', 'drink', 'tra', 'vari', 'obiettivi', 'comissário', 'próximo', 'conveni', 'tibet', 'podemo', 'ppe-d', 'mer', 'encor', 'faut', 'amendementen', 'durant', 'coast', 'enjoy', 'someon', 'contract', 'fram', 'daar', 'dont', 'non-government', 'hyvä', 'matéria', 'hacer', 'documento', 'kommissær', 'primeiro', 'groundwat', 'noi', 'coalit', 'turismo', 'veiligheid', 'familiar', 'tem', 'jaar', 'doubl', 'friend', 'fiscal', 'ländlichen', 'direktivet', 'finn', 'denen', 'particuli', 'reconcili', 'air', 'assim', 'mme', 'επίτροπε', 'έκθεσης', 'comisario', 'transnat', 'pouco', 'oli', 'whatsoev', 'fordi', 'considér', 'só', 'strasbourg', 'liberalis', 'deshalb', 'nuestro', 'waren', 'politician', 'nämä', 'intoler', 'sympathi', 'aandacht', 'abandon', 'recoveri', 'breach', 'core', 'jurisdict', 'mij', 'será', 'dentro', 'vast', 'nosotro', 'discussion', 'interno', 'top', 'volum', 'effet', 'uphold', 'forest', 'vaarallisten', 'aineiden', 'write', 'halt', 'diesen', 'dank', 'dutch', 'written', 'gjort', 'doch', 'laten', 'uvr', 'περιοχές', 'wel', 'όταν', 'θέση', 'alguna', 'μπορεί', 'betänkandet', 'richtlijn', 'goederen', 'αυτές', 'tärkeää', 'zullen', 'debatt', 'poorest', 'vida', 'frågan', 'told', 'τώρα', 'μόνο', 'proof', 'sixth', 'périod', 'weil', 'entrepris', 'desemprego', 'entri', 'steed', 'doen', 'follow-up', 'mainstream', 'mir', 'erityisesti', 'forestri', 'importancia', 'dann', 'syria', 'proport', 'ώστε', 'vorrei', 'drop', 'συνάδελφοι', 'credit', 'recurso', 'luxembourg', 'aplicação', 'occorr', 'εε', 'spite', 'εμπορευμάτων', 'reconcil', 'northern', 'cuestión', 'importanza', 'sowi', 'regist', 'spread', 'δύο', 'adjust', 'gebieden', 'deve', 'vragen', 'babitski', 'volgen', 'trasporto', 'criticis', 'partido', 'socialista', 'realment', 'dossier', 'redan', 'cher', 'tästä', 'tätä', 'rapidli', 'yourself', 'forbedr', 'stimul', 'ahora', 'satisfact', 'alten', 'compat', 'déjà', 'pt', 'understood', 'γραμμών', 'supplement', 'dazu', 'kommissar', 'voorstel', 'varsinkin', 'execut', 'symbol', 'τι', 'hemo', 'contra', 'sino', 'partli', 'jahr', 'satisfactori', 'fischler', 'digniti', 'hoy', 'near', 'όχι', 'background', 'owner', 'situationen', 'regardless', 'nó', 'attenzion', 'withdraw', 'fit', 'decir', 'χώρες', 'drive', 'wallström', 'zouden', 'zeggen', 'humanitarian', 'tid', 'sondern', 'sidst', 'ιδιαίτερα', 'καθώς', 'kunn', 'duidelijk', 'inhabit', 'nouvel', 'drug', 'richtlini', 'mina', 'accompani', 'waar', 'realist', 'devast', 'worst', 'alteraçõ', 'mucho', 'alt', 'εκ', 'equip', 'examen', 'nosso', 'απασχόλησης', 'dare', 'περίοδο', 'va', 'décision', 'trata', 'quali', 'tre', 'omdat', 'danken', 'prosecut', 'collabor', 'modifi', 'materia', 'isso', 'poi', 'devot', 'cederschiöld', 'punish', 'advic', 'udvalget', 'burger', 'επειδή', 'eventu', 'nécessair', 'amélior', 'notif', 'προσοχή', 'hänen', 'lopuksi', 'nombr', 'heavi', 'match', 'hospit', 'ευρωπαϊκή', 'σήμερα', 'vigil', 'smaller', 'helt', 'anser', 'deux', 'ihrer', 'rakennerahastojen', 'europa-parlamentet', 'enig', 'θέλω', 'inadequ', 'især', 'trial', 'grote', 'nuevo', 'tank', 'gall', 'allered', 'ambient', 'algun', 'respeito', 'nielson', 'bereit', 'april', 'welfar', 'strukturpolitik', 'kaikki', 'abstain', 'five-year', 'projecto', 'claus', 'quisiera', 'utskottet', 'rådet', 'direktiv', 'pursuant', 'cap', 'où', 'σημαντικό', 'τομέα', 'situazion', 'acordo', 'responsabilidad', 'suitabl', 'står', 'conseil', 'elderli', 'nemen', 'foremost', 'reliabl', 'milosev', 'siamo', 'novo', 'dizer', 'interfer', 'forum', 'ordføreren', 'μεταφορές', 'bilater', 'komen', 'veel', 'jälkeen', 'modif', 'thursday', 'vulner', 'då', 'ideolog', 'theato', 'postpon', 'sme', 'alteração', 'massiv', 'fli', 'cet', 'sudr', 'mot', 'emendamenti', 'crear', 'doelstellingen', 'suppos', 'fate', 'conto', 'hoje', 'room', 'primarili', 'mesmo', 'slick', 'stake', 'några', 'sa', 'netherland', 'igen', 'asunto', 'wichtig', 'copyright', 'hele', 'stanc', 'mitrovica', 'nikitin', 'pedido', 'κατάσταση', 'dissemin', 'bonn', 'bör', 'fifteen', 'foundat', 'ollut', 'lokal', 'chômage', 'attract', 'monti', 'alcuni', 'situação', 'medio', 'projekt', 'langen', 'gör', 'jossa', 'sitten', 'shortcom', 'deputada', 'sektor', 'utmost', 'usa', 'priorità', 'περιφερειακής', 'eficaz', 'avez', 'nearli', 'preced', 'eivät', 'aquí', 'mogelijk', 'specifi', 'tragic', 'illustr', 'secondo', 'occupi', 'endnu', 'afternoon', 'sujet', 'expens', 'constitu', 'primer', 'merit', 'posibl', 'apoio', 'raison', 'doit', 'moi', 'nível', 'scientist', 'deplor', 'projet', 'bound', 'peut', 'intercept', 'domain', 'sra', 'bedeutung', 'english', 'characteris', 'manera', 'ongo', 'perpetr', 'vaan', 'redund', 'interinstitut', 'protest', 'regionai', 'många', 'frage', 'intellectu', 'fourth', 'liberti', 'quero', 'agora', 'fem', 'været', 'oggi', 'voimm', 'pen', 'himself', 'viel', 'caput', 'όσον', 'ασφάλεια', 'muligt', 'brengen', 'eli', 'speed', 'choos', 'electr', 'έχουμε', 'μόνον', 'dafür', 'deep', 'lor', 'περισσότερο', 'ca', 'ospar', 'widen', 'problèm', 'art', 'complement', 'corri', 'secteur', 'relativament', 'sec', 'stellen', 'godt', 'alguma', 'monday', 'geht', 'regionalen', 'isto', 'actividad', 'jetzt', 'minha', 'flautr', 'compt', 'catástrof', 'importância', 'gmo', 'än', 'desidero', 'wurtz', 'föredraganden', 'arbet', 'mieltä', 'tällä', 'stora', 'parec', 'berichterstatterin', 'motiv', 'landsbygden', 'sentenc', 'uniqu', 'koske', 'pari', 'adher', 'äußerst', 'punkten', 'kein', 'gdp', 'politich', 'små', 'rack', 'aussprach', 'kosovar', 'disoccupazion', 'conseguir', 'erittäin', 'ήδη', 'annex', 'ideal', 'hardli', 'countrysid', 'requisito', 'romania', 'προκειμένου', 'comitolog', 'handl', 'easili', 'στους', 'ευρώπη', 'regionali', 'kept', 'betreft', 'zelf', 'ancora', 'simplifi', 'barrier', 'otra', 'owe', 'περιοχών', 'anmod', 'cn', 'geacht', 'tragedi', 'undermin', 'constantli', 'civilian', 'yugoslav', 'flood', 'sejam', 'perché', 'centralis', 'irish', 'kill', 'western', 'bird', 'giver', 'parallel', 'relatric', 'dato', 'strictli', 'haluan', 'bureaucraci', 'temporari', 'organ', 'foram', 'sv', 'ed', 'ακόμη', 'mang', 'bør', 'mietinnön', 'destruct', 'marginalis', 'dagsordenen', 'remerci', 'προγραμμάτων', 'maßnahmen', 'sake', 'wage', 'felt', 'bl.a', 'ppe', 'nome', 'recht', 'oft', 'ausschuß', 'vooral', 'eben', 'shift', 'statut', 'princípio', 'willing', 'florenz', 'nomeadament', 'tribun', 'toe', 'regular', 'went', 'acp-eu', 'ob', 'hace', 'ello', 'åtgärder', 'hvordan', 'uk', 'puesto', 'norma', 'drastic', 'namen', 'relatora', 'shortli', 'necessário', 'debe', 'proyecto', 'stronger', 'uncertainti', 'gap', 'gale', 'arbeit', 'abbiamo', 'accordingli', 'gehouden', 'corpor', 'joita', 'πρόταση', 'compulsori', 'veze', 'hoe', 'semana', 'cosa', 'soprattutto', 'estou', 'economica', 'sedan', 'slecht', 'interess', 'thorough', 'programmen', 'werkloosheid', 'hänsyn', 'undoubtedli', 'efeito', 'possível', 'vice-presid', 'dado', 'lage', 'legislatura', 'είχε', 'controversi', 'disput', 'soltanto', 'disciplin', 'boost', 'jeopardis', 'anné', 'wogau', 'visibl', 'circul', 'acquir', 'weiter', 'usual', 'notabl', 'communist', 'vitorino', 'audit', 'scoreboard', 'proced', 'standardis', 'ansvar', 'houden', 'έναν', 'reassur', 'dog', 'selv', 'creo', 'retard', 'caro', 'pose', 'keen', 'teidän', 'tse', 'particulièr', 'hän', 'swedish', 'explicitli', 'atención', 'vorschlag', 'electron', 'områd', 'yo', 'anni', 'goed', 'lei', 'komm', 'vandaag', 'κάθε', 'kollegat', 'm', 'stenzel', 'europäisch', 'pib', 'fast', 'lower', 'kunna', 'desigualdad', 'correctli', 'televis', 'ορισμένες', 'yhteisön', 'möjligt', 'fin', 'assent', 'fifth', 'unnecessari', 'machen', 'preciso', 'problemi', 'certo', 'guid', 'path', 'importantli', 'elector', 'punkter', 'betænkningen', 'surviv', 'tension', 'petit', 'debatten', 'maatregelen', 'frontier', 'pietro', 'efficac', 'america', 'retir', 'arbeitslosigkeit', 'programmet', 'abstimmung', 'koskevat', 'recal', 'synergi', 'proprio', 'dynam', 'relator', 'glad', 'randlag', 'στόχου', 'ό', 'ønsker', 'russia', 'έτσι', 'wijz', 'namelijk', 'όλα', 'ciudadano', 'chose', 'pertain', 'vuoden', 'texto', 'carretera', 'jäsenvaltioiden', 'solid', 'ταμεία', 'två', 'quer', 'agradec', 'lift', 'premièr', '¿', 'votação', 'armenia', 'nodig', 'τροπολογίες', 'tagesordnung', 'automat', 'updat', 'mukaan', 'varsin', 'tweed', 'classif', 'εισηγήτρια', 'conclusion', 'διότι', 'tiempo', 'fpö', 'bomb', 'otc', 'aspekt', 'priorité', 'henblik', 'economia', 'prise', 'push', 'afgevaardigden', 'termin', 'decision', 'conclusi', 'worthi', 'schengen', 'ambigu', 'nine', 'outro', 'joiden', 'navnlig', 'reforma', 'vue', 'krav', 'endast', 'όπου', 'grad', 'samhørigh', 'umsetzung', 'portanto', 'telephon', 'constant', 'alexand', 'εμείς', 'jörg', 'gibt', 'πριν', 'zorgen', 'quantiti', 'posizion', 'relativo', 'maastricht', 'mass', 'maior', 'shame', 'comité', 'wherea', 'react', 'αυτών', 'κατευθυντήριων', 'infrastruktur', 'kære', 'staat', 'detriment', 'argu', 'unlik', 'impetu', 'viktigt', 'skapa', 'excus', 'pued', 'förslag', 'βαθμό', 'jonckheer', 'derog', 'chain', 'label', 'ultraperifer', 'diseas', 'suo', 'paradox', 'font', 'coexist', 'causa', 'byrn', 'penso', 'fourteen', 'flere', 'dokument', 'πλαίσιο', 'forskellig', 'weten', 'nødvendigt', 'blive', 'tähän', 'buena', 'garantir', 'erad', 'möjlighet', 'infin', 'summer', 'faith', 'programação', 'razón', 'raft', 'erst', 'chapter', 'κυρίως', 'texa', 'anchovi', 'asian', 'olika', 'third-countri', 'stori', 'ration', 'genomen', 'misur', 'emot', 'infring', 'programmazion', 'abolish', 'interim', 'concert', 'først', 'meiner', 'outset', 'taget', 'claro', 'meio', 'preparatori', 'cambodia', 'ud', 'otro', 'pue', 'vom', 'político', 'iniciativa', 'quindi', 'weight', 'utvecklingen', 'molti', 'instrumento', 'práctica', 'cidadão', 'prohibit', 'melhor', 'abord', 'tijd', 'notam', 'ζήτημα', 'διαρθρωτικά', 'school', 'οικονομικής', 'domest', 'dismantl', 'aujourd', 'hui', 'meant', 'vier', 'platteland', 'föredragningslistan', 'hitherto', 'vossa', 'counter', 'votazion', 'fællesskabet', 'yderst', 'periferi', 'short-term', 'forese', 'juist', 'turism', 'maaseudun', 'mielessä', 'ait', 'ιδιαιτέρως', 'εφαρμογή', 'διαδικασία', 'moin', 'respecto', 'soient', 'impli', 'berichterstatt', 'silenc', 'spoken', 'resultat', 'fire', 'teill', 'predecessor', 'mettr', 'britain', 'θεωρώ', 'augment', 'damen', 'övp', 'bureaucrat', 'mismo', 'vraag', 'embrac', 'varieti', 'bättre', 'máximo', 'virksomhed', 'nun', 'finland', 'belgian', 'expressli', 'forgotten', 'razão', 'parlamentari', 'temp', 'planet', 'yhteydessä', 'haya', 'addition', 'rôle', 'debemo', 'ge', 'begun', 'feasibl', 'bliver', 'migrat', 'ressourc', 'pse', 'scenario', 'extraordinari', 'kolleginnen', 'conven', 'tacka', 'κύριοι', 'temperatur', 'neuen', 'nostra', 'anterior', 'occasion', 'graag', 'resultaten', 'ex', 'part-sess', 'resum', 'κόμματος', 'σημείο', 'διάταξη', 'tonn', 'οδηγίας', 'f.ek', 'mindr', 'blame', 'exemplo', 'senior', 'num', 'número', 'desempleo', 'eikä', 'belgium', 'mia', 'letzten', 'vamo', 'divis', 'alueilla', 'otetaan', 'governo', 'prochain', 'wirklich', 'cuanto', 'verheugen', 'επικινδύνων', 'carácter', 'schmidt', 'peu', 'remit', 'telecommun', 'depth', 'revenu', 'olla', 'mal', 'scrap', 'qué', 'sicherheit', 'directorate-gener', 'ieder', 'nytt', 'gør', 'disabl', 'secretary-gener', 'posição', 'ευρωπαϊκό', 'erityisen', 'tuttavia', 'mese', 'worthwhil', 'indonesia', 'mielestäni', 'ενός', 'frequent', 'mobil', 'havel', 'supran', 'unternehmen', 'lobbi', 'skabe', 'πρόγραμμα', 'dernièr', 'habitat', 'είτε', 'holdn', 'imag', 'framför', 'yttersta', 'sostegno', 'emu', 'decourrièr', 'γιατί', 'πρώτη', 'σώμα', 'multiannu', 'prerequisit', 'theori', 'heel', 'provinc', 'assembleia', 'edf', 'hide', 'fruit', 'ratif', 'shock', 'previous', 'havd', 'doubtless', 'mismanag', 'commend', 'prioriteiten', 'redistribut', 'perceiv', 'proceso', 'mercado', 'ordfører', 'vie', 'pessoa', 'diplomat', 'sou', 'πω', 'pledg', 'foranstaltning', 'angår', 'liabl', 'disagr', 'debt', 'intens', 'αύξηση', 'horizont', 'twee', 'conformidad', 'asid', 'είμαστε', 'regrett', 'delic', 'ærede', 'mittel', 'permiss', 'multin', 'general', 'están', 'ayuda', 'interregion', 'områder', 'föredragand', 'settlement', 'suit', 'noget', 'tremend', 'primera', 'sina', 'daili', 'klart', 'allen', 'pictur', 'valuabl', 'meantim', 'verzoek', 'south-east', 'hazard', 'enfin', 'sitt', 'klar', 'mahdollisimman', 'pend', 'enkel', 'alto', 'resign', 'mainten', 'lign', 'input', 'juuri', 'visa', 'procent', 'mest', 'gracia', 'ollen', 'somo', 'inconsist', 'transform', 'impres', 'uso', 'fa', 'ord', 'gone', 'primeira', 'desper', 'physic', 'regener', 'murder', 'estrutur', 'presentar', 'constitui', 'rationalis', 'αγαπητοί', 'οικονομική', 'περιφερειακών', 'sarebb', 'επίπεδο', 'necessidad', 'vision', 'intellig', 'altro', 'confidenti', 'legitimaci', 'wise', 'conjunct', 'henn', 'binnen', 'tend', 'strada', 'fare', 'meill', 'compliment', 'sysselsättn', 'sammanhållningsfonden', 'ημερήσια', 'sought', 'broader', 'utilização', 'complianc', 'επομένως', 'dump', 'perfect', 'paljon', 'sem', 'nationella', 'liksom', 'può', 'ainsi', 'sollten', 'ευρώπης', 'sozialen', 'exact', 'complaint', 'maiden', 'coup', 'trop', 'ruolo', 'doivent', 'ver', 'agrícola', 'mise', 'siden', 'mountain', 'bit', 'transpos', 'flow', 'error', 'tehdä', 'net', 'strike', 'zusammenhang', 'αυτού', 'τέλος', 'finnish', 'cittadini', 'τόσο', 'σημασία', 'propaganda', 'somm', 'além', 'disso', 'basin', 'persecut', 'membro', 'assunto', 'direktiivin', 'livello', 'tant', 'citizenship', 'albeit', 'gestion', 'goodyear', 'flora', 'förbättra', 'reconsid', 'excis', 'alor', 'doelstel', 'repair', 'devemo', 'ela', 'competitività', 'taler', 'right-w', 'deliber', 'mikä', 'muiden', 'cohesiefond', 'municip', 'fix', 'endelig', 'prioritet', 'becam', 'serait', 'merito', 'pauvr', 'tough', 'confeder', 'fondsen', 'team', 'albania', 'genetically-modifi', 'αποτελεί', 'cast', 'aún', 'machin', 'mod', 'wherebi', 'φορά', 'αρχή', 'prioritis', 'minim', 'usein', 'constraint', 'cargo', 'όλες', 'avoir', 'cell', 'sikkerh', 'stöd', 'viim', 'vuoksi', 'tijden', 'irrespons', 'cadr', 'aucun', 'compétitivité', 'dictatorship', 'ejemplo', 'phare', 'reli', 'bare', 'periodiska', 'jedoch', 'cross', 'syrian', 'beskæftigels', 'verder', 'space', 'habe', 'confront', 'takk', 'nova', 'indicador', 'sean', 'hesit', 'persona', 'eight', 'desta', 'âmbito', 'nesta', 'emiss', 'kohäsionsfond', 'berücksichtigt', 'primo', 'ese', 'μιας', 'deploy', 'mínima', 'souvent', 'ligger', 'ultraperiferich', 'politiska', 'render', 'doel', 'decreas', 'exigência', 'risors', 'standpunt', 'teitä', 'nazionali', 'jota', 'olett', 'inför', 'σχέση', 'alguno', 'naturalment', 'harmoni', 'sesta', 'shipown', 'schüssel', 'fresh', 'tomada', 'netop', 'nostro', 'analisi', 'enemmän', 'huomiota', 'varför', 'análisi', 'temo', 'tidliger', 'high-level', 'opt', 'kom', 'führen', 'site', 'copi', 'mejor', 'região', 'belief', 'miten', 'seixa', 'geval', 'anvendels', 'pilot', 'mesdam', 'messieur', 'territorial', 'season', 'devem', 'deuxièm', 'convict', 'terrorist', 'ella', 'sanoa', 'antaa', 'liikanen', 'straße', 'wirtschaftlichen', 'emm', 'werd', 'herrar', 'necesidad', 'sagt', 'kiittää', 'calcul', 'significa', 'større', 'anális', 'landbouw', 'samhørighedsfonden', 'periodiek', 'puolesta', 'seulement', 'mietintö', 'frame', 'tekst', 'sii', 'waarin', 'repeatedli', 'schedul', 'sinn', 'muita', 'hagu', 'hora', 'whenev', 'stringent', 'accordo', 'likewis', 'voidaan', 'guidanc', 'unrealist', 'berger', 'serum', 'siinä', 'larger', 'dineh', 'dedic', 'philosophi', 'nacionai', 'spiritu', 'proud', 'pasado', 'périodiqu', 'πόρων', 'echo', 'espero', 'skill', 'nogueira', 'fortfarand', 'tredj', 'inzak', 'gebi', 'dupui', 'ännu', 'tengo', 'assegurar', 'agricultura', 'inoltr', 'nostri', 'carta', 'vej', 'programación', 'economía', 'rica', 'estratégico', 'denounc', 'disagre', 'multipl', 'ingen', 'afraid', 'tomado', 'torsdag', 'fælle', 'citoyen', 'serbian', 'quarter', 'περιόδου', 'tidigar', 'herrer', 'zunächst', 'wachstum', 'beslut', 'esam', 'visto', 'voter', 'extrêmement', 'regulamentação', 'beef', 'vissa', 'reloc', 'underpin', 'sjett', 'periodisk', 'harmonização', 'vår', 'san', 'circl', 'condizioni', 'habitant', 'saber', 'imper', 'waarom', 'regler', 'kommand', 'bli', 'stay', 'tenemo', 'nivel', 'minuto', 'proce', 'udviklingen', 'lige', 'schon', 'ainoastaan', 'lisäksi', 'koko', 'pode', 'condicion', 'patent', 'zaken', 'nordic', 'timber', 'ny', 'tratado', 'exempl', 'besond', 'neue', 'alarm', 'pourquoi', 'ceil', 'judiciari', 'scrutini', 'flexibilidad', 'leadership', 'tegen', 'optim', 'constat', 'différent', 'roth-behrendt', 'alltså', 'coastal', 'aplicación', 'beschäftigung', 'primari', 'procedimiento', 'realizado', 'preliminari', 'wenig', 'vece', 'expertis', 'était', 'began', 'ultrapériphériqu', 'sport', 'estructur', 'explicit', 'sjätte', 'rappel', 'periodica', 'μεγαλύτερη', 'stata', 'user', 'mesma', 'sink', 'aunqu', 'kammaren', 'decent', 'essentiel', 'ευχαριστήσω', 'mortal', 'daran', 'excelent', 'μπορούμε', 'strength', 'posto', 'sede', 'decisão', 'ponnambalam', 'motor', 'wurden', 'poter', 'κυρίες', 'dramat', 'finalis', 'midler', 'verkligen', 'deutlich', 'vis-à-vi', 'vita', 'black', 'ihren', 'resist', 'custom', 'savari', 'slightli', 'ust', 'sistema', 'μην', 'lag', 'πρόκειται', 'certa', 'större', 'district', 'ευρωπαϊκού', 'ευρωπαίων', 'contrast', 'verschillen', 'μελών', 'público', 'deben', 'competent', 'sceptic', 'svolto', 'económico', 'μέτρα', 'ψηφοφορία', 'député', 'sadli', 'richtig', 'zeit', 'αν', 'fill', 'große', 'accur', 'stabl', 'campo', 'instal', 'greatli', 'accommod', 'timor', 'apport', 'raum', 'vagu', 'zesd', 'survey', 'durabl', 'uranium', 'devon', 'forhandl', 'alueita', 'nimenomaan', 'manifesto', 'optimum', 'dergelijk', 'zaak', 'februar', 'andalusia', 'theme', 'fort', 'substant', 'croissanc', 'ferrocarril', 'frassoni', 'før', 'innanzi', 'skaber', 'virtual', 'wednesday', 'lynn', 'differenti', 'plaat', 'moni', 'tänään', 'bestämmels', 'tenu', 'andet', 'δημιουργία', 'unmik', 'ασφαλείας', 'μάλιστα', 'félicit', 'remedi', 'indian', 'groei', 'regel', 'struttural', 'ofta', 'questi', 'devono', 'sixièm', 'fim', 'attain', 'seiner', 'condiçõ', 'avant', 'wettbewerbsfähigkeit', 'fewer', 'piec', 'certif', 'conselheiro', 'randområdena', 'román', 'volt', 'tudo', 'luogo', 'drought', 'disposit', 'watch', 'böge', 'linha', '1994-1999', 'ber', 'går', 'crescita', 'insuffici', 'βάση', 'insecur', 'modifica', 'persuad', 'saw', 'scene', 'inappropri', 'straight', 'warmli', 'fourthli', 'settl', 'andrey', 'slow', 'vinden', 'occup', 'african', 'blir', 'tapauksessa', 'asiassa', 'territoir', 'metal', 'vraagstuk', 'gross', 'suficientement', 'possa', 'tager', 'distinct', 'aggress', 'nouveau', 'ανεργίας', 'represent', 'emendamento', 'bestemmels', 'caribbean', 'rätt', 'visar', 'urbano', 'formula', 'hinsichtlich', 'förderung', 'grundlag', 'território', 'esimerkiksi', 'deterior', 'kehityksen', 'below', 'arrest', 'consumpt', 'domínio', 'essenc', 'bastant', 're-establish', 'stemmen', 'brittani', 'måde', 'selbst', 'vielen', 'rome', 'earn', 'ministeri', 'hij', 'privado', 'bereich', 'wieder', 'lend', 'mitt', 'deregul', 'sail', 'serviço', 'qualità', 'doi', 'invec', 'konkret', 'buy', 'esforço', 'personnel', 'altijd', 'naturel', 'estremament', 'wo', 'πολιτικών', 'samordn', 'deseo', 'crecimiento', 'dai', 'kära', 'arbetslösheten', 'områden', 'gather', 'uppnå', 'track', 'possibil', 'overlook', 'résultat', 'alavano', 'gorsel', 'p.m.', 'eri', 'tavoitteen', 'selvom', 'ersten', 'distanc', 'europaparlamentet', 'faster', 'beaucoup', 'näitä', 'waard', 'qualch', 'groot', 'großen', 'hinder', 'lieb', 'iron', 'προτεραιότητα', 'woord', 'imbal', 'boa', 'κοινωνική', 'multi-ethn', 'gonzález', 'cancel', 'regularli', 'uniti', 'délai', 'incoher', 'altri', 'enrich', 'recit', 'προβλήματα', 'μπορούν', 'apoyo', 'conjunto', 'tydligt', 'présent', 'katastrof', 'macedonian', 'hoop', 'profil', 'fairli', 'têm', 'zojuist', 'miksi', 'especialment', 'hypocrisi', 'opinião', 'nueva', 'jahren', 'richiesta', 'alter', 'nuovo', 'réglement', 'deepli', 'gå', 'stadig', 'verifi', 'vaikka', 'nº', 'hedkvist', 'petersen', 'chair', 'discov', 'θέσεις', 'niitä', 'strategisch', 'liegt', 'feit', 'οδικές', 'laquel', 'eso', 'åren', 'bovendien', 'wijzen', 'sociedad', 'ecosystem', 'positiv', 'ecsc', 'kommend', 'laatimisohjeet', 'respeita', 'urbana', 'numa', 'meinung', 'book', 'suuntaviivojen', 'änderungsanträg', 'sozial', 'quadro', 'inferior', 'precisament', 'descript', 'eurostat', 'ομάδας', 'κρατών', '·', 'dibattito', 'niistä', 'structuurbeleid', 'omiss', 'gefährlich', 'evitar', 'insofar', 'considero', 'irregular', 'toch', 'enshrin', 'plusieur', 'extremist', 'comissária', 'expand', 'liian', 'renationalis', 'unido', 'ytterligar', 'considerazion', 'συνεπώς', 'tror', 'tack', 'positivo', 'ασφάλειας', 'mucha', 'cour', 'palavra', 'sarà', 'efecto', 'contamin', 'cinq', 'företagen', 'nowaday', 'esfuerzo', 'bidrag', 'tinha', 'rurali', 'toujour', 'parc', 'κοινωνικής', 'donné', 'diferent', 'tendo', 'significantli', 'risultati', 'nacional', 'votación', 'gemeenschappelijk', 'komma', 'percento', 'σοβαρά', 'posti', 'καταρχάς', 'αυτήν', 'savoir', 'hade', 'pull', 'συνέχεια', 'outstand', 'genet', 'beneficiari', 'communitis', 'applaud', 'mix', 'tauern', 'belgrad', 'avulla', 'unclear', 'troop', 'loud', 'deed', 'unpreced', 'blandt', 'udtryk', 'poder', 'large-scal', 'angolan', 'entanto', 'quai', 'élabor', 'lawyer', 'stick', 'agricol', 'principal', 'pare', 'wholeheartedli', 'última', 'højere', 'λοιπόν', 'rebuild', 'januar', 'pedir', 'vicecont', 'badli', 'agit', 'rispetto', 'quella', 'creativ', 'règlement', 'chosen', 'harbour', 'ακόμα', 'πραγματικά', 'ind', 'immens', 'credo', 'unilater', 'anxiou', 'seeker', 'wijzig', 'techniqu', 'aina', 'waterway', 'κάνουμε', 'c5-0120', 'verschillend', 'meda', 'sammanhållningen', 'υπό', 'σύμφωνα', 'commenc', 'spørgsmålet', 'posición', 'serio', 'gulf', 'everywher', 'bin', 'rapkay', 'monet', 'a5-0108', 'c5-0122', 'arbetstillfällen', 'todellakin', 'ond', 'posso', 'kommen', 'vai', 'widespread', 'wealthi', 'evident', 'personn', 'processu', 'afin', 'gebracht', 'schaffen', 'anderen', 'unter', 'bürger', 'quaestor', 'sociali', 'geworden', 'hull', 'assert', 'απόφαση', 'strumento', 'asiasta', 'avait', 'politisk', 'rol', 'superior', 'delet', 'vilka', 'continuum', 'menschen', 'comunitaria', 'viktig', 'prompt', 'opinión', 'darum', 'aivan', 'regulatori', 'progetti', 'esempio', 'plooij-van', 'täällä', 'repercuss', 'a5-0105', 'väg', 'c5-0208', '0106', 'cepend', 'contr', 'τροπολογία', 'uden', 'bijzond', 'toinen', 'quand', 'appel', 'premier', 'advers', 'comparison', 'andr', 'kumar', 'rethink', 'zeitraum', 'vaak', 'positiva', 'etwa', 'στιγμή', 'crescimento', 'eficácia', 'beter', 'expir', 'nostr', 'aspetto', 'långt', 'disturb', 'dobbiamo', 'dello', 'recordar', 'india', 'lägga', 'hvilket', 'margin', 'procédur', 'kraft', 'drejer', 'haft', 'staan', 'strategisk', 'alleg', 'legislatur', 'ajuda', 'ailleur', 'applicazion', 'length', 'porém', 'finalment', 'pequeña', 'a5-0104', 'c5-0004', '0083', 'coincid', 'rahmen', 'backward', 'blot', 'schien', 'tienen', 'lorsqu', 'migliorar', 'fragment', 'alongsid', 'memori', 'quantit', 'legislativo', 'bitt', 'threshold', 'chapeau', 'partir', 'così', 'hacia', 'throw', 'pensar', 'cómo', 'εντός', 'αυτής', 'teistä', 'soulign', 'perant', 'alueet', 'prejudic', 'ringrazio', 'consiguient', 'contexto', 'ennen', 'talar', 'a5-0107', 'frågor', 'criação', 'comum', 'compris', 'aikana', 'eec', 'struck', 'besluit', 'acident', 'unfair', 'enligt', 'tagit', 'gerad', 'duda', 'characterist', 'display', 'ταμείου', 'bra', 'seria', 'middelen', 'partial', 'greenhous', 'zowel', 'qualidad', 'στόχους', 'embark', 'veux', 'nobodi', 'predict', 'helaa', 'komissiota', 'punti', 'vigtig', 'medel', 'vía', 'εισηγητή', 'pido', 'class', 'verbesserung', 'eg', 'negativa', 'particularment', 'vó', 'battl', 'hasta', 'extra', 'contradictori', 'religi', 'repress', 'jäsenvaltiot', 'συγκεκριμένα', 'czech', 'νέων', 'hvorfor', 'όσο', 'devrion', 'benefici', 'io', 'broadli', 'entiti', 'rom', 'utilizzo', 'index', 'duurzam', 'inspir', 'wind', 'bruto', 'ændring', 'omröstningen', 'sell', 'περιφερειακή', 'undergo', 'ihrem', 'jäsenet', 'eaggf', 'esiin', 'συχνά', 'suficient', 'hend', 'αποτέλεσμα', 'withdrawn', 'spoor', 'formação', 'raad', 'ritengo', 'europei', 'graef', 'baringdorf', 'far-reach', 'neighbourhood', 'reveal', 'vergessen', 'bi', 'semain', 'clair', 'ryhmäni', 'daadwerkelijk', 'consiglio', 'venga', 'geven', 'exert', 'uppmanar', 'suddenli', 'entrepreneurship', 'até', 'clearer', 'devi', 'voeren', 'closur', 'antal', 'programmern', 'exceed', 'verbeteren', 'cart', 'fattig', 'laatst', 'uitvoer', 'plain', 'mieux', 'corpu', 'besoin', 'amanhã', 'réunion', 'minst', 'knew', 'comun', 'igualment', 'kannalta', 'partenariat', 'wake', 'interact', 'seinen', 'prosenttia', 'totalitarian', 'όλοι', 'ethic', 'betreffend', 'vergad', 'forhandlingen', 'consejo', 'gebruik', 'behov', 'behovet', 'πολίτες', 'aparicio', 'sánchez', 'gute', 'gebiet', 'elaboración', 'asamblea', 'friendli', 'magnific', 'inland', 'fortun', 'golan', 'landdistrikt', 'earthquak', 'simpson', 'arbejdsplads', 'notion', 'pyydän', 'indr', 'algemeen', 'samenhang', 'afectado', 'well-known', 'passion', 'collaps', 'activité', 'leak', 'raschhof', 'colleg', 'tule', 'signifi', 'dernier', 'alcun', 'effektivitet', 'inquiri', 'oikeastaan', 'fattiga', 'nævnt', 'ärade', 'faktiskt', 'tighten', 'tenido', 'page', 'vårt', 'sollt', 'arab', 'έκτη', 'περιοδική', 'absurd', 'kerran', 'altresì', 'cite', 'meillä', 'oltava', 'algo', 'everybodi', 'consejero', 'possibilità', 'infraestructura', 'airport', 'minder', 'snel', 'gebieten', 'progetto', 'presidenti', 'mandatori', 'γνώμη', 'conclusõ', 'ert', 'eurodac', 'étant', 'bezug', 'felicitar', 'estoy', 'aprè', 'χρόνια', 'τελευταία', 'nom', 'compil', 'bolkestein', 'purtroppo', 'voluntari', 'conselho', 'projecten', 'prais', 'σημαντική', 'tune', 'díez', 'puerta', 'bush', 'largest', 'ribeiro', 'castro', 'tribut', 'μόλις', 'popular', 'opportuno', 'elisabeth', 'werkelijk', 'ut', 'verband', 'antibiot', 'partenariato', 'dunqu', 'pregunta', 'angesicht', 'marco', 'tour', 'estimado', 'contien', 'opnå']\n"
     ]
    }
   ],
   "source": [
    "freq = nltk.probability.FreqDist(words_without_sw)# BOW\n",
    "word_feature = list(freq)[:5000]\n",
    "\n",
    "print(word_feature)"
   ]
  },
  {
   "cell_type": "markdown",
   "metadata": {},
   "source": []
  },
  {
   "cell_type": "markdown",
   "source": [
    "# We define the function that will extract out features"
   ],
   "metadata": {
    "collapsed": false
   }
  },
  {
   "cell_type": "code",
   "execution_count": 11,
   "metadata": {},
   "outputs": [],
   "source": [
    "def document_features(document):\n",
    "    document_words = word_tokenize(document)\n",
    "    features = {}\n",
    "    for word in word_feature:\n",
    "        features['contains({})'.format(word)] = (word in document_words)\n",
    "    return features"
   ]
  },
  {
   "cell_type": "code",
   "execution_count": 12,
   "metadata": {},
   "outputs": [],
   "source": [
    "featuresets = [(document_features(d), c) for (d,c) in documents]"
   ]
  },
  {
   "cell_type": "code",
   "execution_count": 13,
   "outputs": [
    {
     "name": "stdout",
     "output_type": "stream",
     "text": [
      "29109\n"
     ]
    }
   ],
   "source": [
    "print(len(featuresets))\n",
    "train_set, test_set = featuresets[math.floor(len(featuresets)/2):], featuresets[:math.floor(len(featuresets)/2)]\n",
    "classifier = nltk.NaiveBayesClassifier.train(train_set)"
   ],
   "metadata": {
    "collapsed": false
   }
  },
  {
   "cell_type": "code",
   "execution_count": 49,
   "outputs": [
    {
     "name": "stdout",
     "output_type": "stream",
     "text": [
      "noteng\n"
     ]
    }
   ],
   "source": [
    "print(classifier.classify(document_features(\"mauro\")))"
   ],
   "metadata": {
    "collapsed": false
   }
  },
  {
   "cell_type": "markdown",
   "source": [],
   "metadata": {
    "collapsed": false
   }
  },
  {
   "cell_type": "code",
   "execution_count": null,
   "metadata": {},
   "outputs": [],
   "source": [
    "refsets = collections.defaultdict(set)\n",
    "testsets = collections.defaultdict(set)\n",
    "for i, (feats, label) in enumerate(test_set):\n",
    "    print(i)\n",
    "    refsets[label].add(i)\n",
    "    observed = classifier.classify(feats)\n",
    "    testsets[observed].add(i)\n"
   ]
  },
  {
   "cell_type": "markdown",
   "source": [
    "# Display stats\n",
    "\n",
    "- Precision: The number of labeled positive / real positive\n",
    "- Recall: The number of labeled negative / real negative\n",
    "- F-Measure:"
   ],
   "metadata": {
    "collapsed": false
   }
  },
  {
   "cell_type": "code",
   "execution_count": 44,
   "outputs": [
    {
     "name": "stdout",
     "output_type": "stream",
     "text": [
      "Precision: 1.0\n",
      "Recall: 0.9923855325117724\n",
      "F-Measure: 0.9961782158302324\n"
     ]
    }
   ],
   "source": [
    "\n",
    "print( 'Precision:', nltk.precision(refsets['eng'], testsets['eng']) )\n",
    "print( 'Recall:', nltk.recall(refsets['eng'], testsets['eng']) )\n",
    "print( 'F-Measure:', nltk.f_measure(refsets['eng'], testsets['eng']) )\n",
    "# `'pos'` is for the \"positive\" (as opposed to \"negative\") label"
   ],
   "metadata": {
    "collapsed": false
   }
  }
 ],
 "metadata": {
  "kernelspec": {
   "display_name": "Python 3 (ipykernel)",
   "language": "python",
   "name": "python3"
  },
  "language_info": {
   "codemirror_mode": {
    "name": "ipython",
    "version": 3
   },
   "file_extension": ".py",
   "mimetype": "text/x-python",
   "name": "python",
   "nbconvert_exporter": "python",
   "pygments_lexer": "ipython3",
   "version": "3.9.13"
  }
 },
 "nbformat": 4,
 "nbformat_minor": 1
}
