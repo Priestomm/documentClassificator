{
 "cells": [
  {
   "cell_type": "markdown",
   "metadata": {},
   "source": [
    "# Imports\n",
    "We import the packages that include corpora, tokenizer, lemmatizer and stemmer."
   ]
  },
  {
   "cell_type": "code",
   "execution_count": 1,
   "metadata": {},
   "outputs": [],
   "source": [
    "import random\n",
    "import math\n",
    "import collections\n",
    "import nltk\n",
    "import string\n",
    "from nltk.metrics import ConfusionMatrix\n",
    "from nltk.tokenize import word_tokenize\n",
    "from nltk.stem import WordNetLemmatizer\n",
    "from nltk.stem import PorterStemmer\n",
    "from nltk.corpus import EuroparlCorpusReader"
   ]
  },
  {
   "cell_type": "markdown",
   "metadata": {},
   "source": [
    "# Import stopwords, punctuations and the first 10000 number in order to remove them from the BOW\n",
    "\n",
    "We remove them because they don't have any informative meaning for our purposes."
   ]
  },
  {
   "cell_type": "code",
   "execution_count": 2,
   "metadata": {},
   "outputs": [],
   "source": [
    "languages = ['english', 'italian', 'spanish', 'dutch', 'german', 'portuguese', 'finnish', 'swedish', 'greek']\n",
    "numbers = []\n",
    "for number in range(10000):\n",
    "    numbers.append(str(number))\n",
    "stop_words = list(nltk.corpus.stopwords.words(lang) for lang in languages)\n",
    "punctuation = string.punctuation\n"
   ]
  },
  {
   "cell_type": "markdown",
   "metadata": {},
   "source": [
    "# Import the corpora we're using to train and to test our classifier\n",
    "\n",
    "In particular, I import corpora from nltk.corpus.EuroParl, a collection that contains extracts from public speeches at the european parliament, in different languages.\n",
    "\n",
    "Each corpus is divided into paragraphs, split by the character '\\n', and each paragraph is labeled as 'eng' or 'noteng'.\n",
    "\n",
    "Then I shuffle all the documents I stored.\n",
    "\n"
   ]
  },
  {
   "cell_type": "code",
   "execution_count": 3,
   "metadata": {},
   "outputs": [
    {
     "name": "stdout",
     "output_type": "stream",
     "text": [
      "19990\n",
      "29109\n"
     ]
    }
   ],
   "source": [
    "\n",
    "root = '/Users/tommasodelprete/nltk_data/corpora/europarl_raw/'\n",
    "\n",
    "english = EuroparlCorpusReader(root, '.*\\.en')\n",
    "documents = list()\n",
    "for fileid in english.fileids():\n",
    "    for sentence in english.raw(fileid).split('\\n'):\n",
    "        documents.append((sentence, 'eng'))\n",
    "\n",
    "print(len(documents))\n",
    "prefToLang = {'da':'danish', 'nl':'dutch', 'fi':'finnish', 'de':'german', 'fr':'french', 'it':'italian', 'pt':'portuguese', 'el':'greek', 'es':'spanish', 'sv':'swedish'}\n",
    "\n",
    "for lang in prefToLang.keys():\n",
    "    non_english = EuroparlCorpusReader(root, \".*\\.{}\".format(lang))\n",
    "    for sentence in non_english.raw(f'{prefToLang[lang]}/ep-00-01-17.{lang}').split('\\n'):\n",
    "        documents.append((sentence, 'noteng'))\n",
    "\n",
    "print(len(documents))\n",
    "random.shuffle(documents)"
   ]
  },
  {
   "cell_type": "markdown",
   "source": [
    "# Import the stemmer and the lemmatizer"
   ],
   "metadata": {
    "collapsed": false
   }
  },
  {
   "cell_type": "code",
   "execution_count": 4,
   "outputs": [],
   "source": [
    "stemmer = PorterStemmer()\n",
    "lemmatizer = WordNetLemmatizer()"
   ],
   "metadata": {
    "collapsed": false
   }
  },
  {
   "cell_type": "markdown",
   "metadata": {},
   "source": [
    "# Tokenization\n",
    "I tokenize the paragraphs stored into 'documents'."
   ]
  },
  {
   "cell_type": "code",
   "execution_count": 5,
   "metadata": {},
   "outputs": [],
   "source": [
    "words = list()\n",
    "for document in documents:\n",
    "    for word in word_tokenize(document[0]):\n",
    "        words.append(word)\n"
   ]
  },
  {
   "cell_type": "markdown",
   "metadata": {},
   "source": [
    "# Stemming, lemmatizating and removing stopwords, punctuation and numbers from the words we obtained by tokenization"
   ]
  },
  {
   "cell_type": "code",
   "execution_count": 6,
   "metadata": {},
   "outputs": [],
   "source": [
    "words_without_sw = []\n",
    "\n",
    "for word in words:\n",
    "    if word not in stop_words and word not in punctuation and word not in numbers:\n",
    "        # print(f\"{word} : {lemmatizer.lemmatize(word)} : {stemmer.stem(lemmatizer.lemmatize(word))}\")\n",
    "        words_without_sw.append(lemmatizer.lemmatize(stemmer.stem(word)))\n"
   ]
  },
  {
   "cell_type": "markdown",
   "source": [
    "# Bag of Word\n",
    "We compute the probability of the words in our corpora, then store the first most frequent 5000 in a list."
   ],
   "metadata": {
    "collapsed": false
   }
  },
  {
   "cell_type": "code",
   "execution_count": 7,
   "metadata": {},
   "outputs": [
    {
     "name": "stdout",
     "output_type": "stream",
     "text": [
      "['the', 'of', 'to', 'a', 'and', 'in', 'is', 'that', 'de', 'i', 'thi', 'for', 'we', 'it', 'on', 'be', 'which', 'are', 'not', 'have', 'with', 'la', 'will', 'european', 'by', 'ha', 'at', 'commiss', 'mr', 'en', 'que', 'all', 'an', 'would', 's', 'do', 'e', 'also', 'but', 'union', 'presid', 'should', 'le', 'state', 'can', 'no', 'must', 'our', 'there', 'you', 'parliament', 'from', 'been', 'member', 'these', 'polici', 'die', 'der', 'or', 'more', 'wa', 'like', 'region', 'what', 'council', 'one', 'van', 'propos', 'countri', 'report', 'need', 'develop', 'import', 'o', 'europ', 'if', 'so', 'right', 'da', 'veri', 'social', 'they', 'den', 'their', 'other', 'det', 'het', 'commun', 'my', 'make', 'di', 'issu', 'l', 'take', 'se', 'programm', 'u', 'area', 'concern', 'att', 'new', 'et', 'work', 'και', 'el', 'about', 'onli', 'question', 'commission', 'un', 'time', 'point', 'να', 'lo', 'om', 'peopl', 'som', 'therefor', 'who', 'y', 'amend', 'year', 'am', 'group', 'og', 'direct', 'och', 'debat', 'ja', 'er', 'becaus', 'when', 'say', 'und', 'now', 'between', 'up', 'support', 'il', 'into', 'ani', 'problem', 'some', 'à', 'out', 'way', 'del', 'της', 'polit', 'eu', 'fact', 'such', 'nation', 'posit', 'committe', 'την', 'just', 'regard', 'howev', 'use', 'govern', 'på', 'vi', 'me', 'che', 'made', 'first', '``', 'within', 'econom', 'were', 'those', 'intern', 'fund', 'over', 'est', 'them', 'para', 'want', 'possibl', 'af', 'part', 'situat', 'come', 'think', 'under', 'för', 'vote', 'al', 'dat', 'των', 'η', 'respons', 'than', 'present', 'med', 'market', 'even', 'mani', 'initi', 'action', 'believ', 'per', 'por', 'principl', 'har', 'view', 'transport', 'aid', 'where', 'inform', 'relat', 'treati', 'case', 'protect', 'doe', 'most', 'term', 'human', 'your', 'could', 'alreadi', 'object', 'd', 'water', 'adopt', 'go', 'effect', 'implement', 'matter', 'agreement', 'measur', 'here', 'av', 'een', 'order', 'decis', 'για', 'see', 'legal', 'today', 'too', 'how', 'two', 'system', 'cours', 'financi', 'give', 'το', 'että', 'public', 'respect', 'cooper', 'mean', 'level', 'ensur', 'good', 'still', 'had', 'competit', 'then', 'discus', 'includ', 'know', 'said', 'against', 'may', 'well', 'thank', 'process', 'hope', 'author', 'ask', 'provid', 'structur', 'same', 'last', 'common', 'resolut', 'institut', 'citizen', 'una', 'much', 'employ', 'put', 'futur', 'place', 'clear', 'regul', 'whi', 'legisl', 'til', 'ik', 'dell', 'establish', 'rapporteur', 'particular', 'jag', 'parti', 'own', 'ce', 'abl', 'exampl', 'hi', 'he', 'interest', 'set', 'both', 'secur', 'reform', 'sector', 'world', 'creat', 'rule', 'particularli', 'increas', 'gener', 'madam', 'του', 'given', 'continu', 'differ', 'jeg', 'achiev', 'te', 'dan', 'repres', 'voor', 'involv', 'far', 'taken', 'chang', 'law', 'consid', 'opinion', 'ich', 'specif', 'που', 'requir', 'em', 'är', 'si', 'du', 'sinc', 'befor', 'certain', 'hous', 'θα', 'major', 'final', 'project', 'subject', 'procedur', 'reason', 'appli', 'zu', 'nou', 'refer', 'end', 'con', 'mention', 'result', 'rural', 'great', 'με', 'environment', 'um', 'number', 'cultur', 'democrat', 'improv', 'again', 'opportun', 'industri', 'express', 'articl', 'accept', 'president', 'op', 'account', 'whether', 'base', 'je', 'allow', 'wish', 'daß', 'contribut', 'freedom', 'plan', 'role', 'pour', 'current', 'agre', 'framework', 'deal', 'without', 'für', 'follow', 'control', 'few', 'equal', 'till', 'une', 'necessari', 'next', 'kan', 'shall', 'negoti', 'form', 'forc', 'instrument', 'tourism', 'met', 'ein', 'europa', 'kommissionen', 'promot', 'είναι', 'activ', 'von', 'environ', 'confer', 'basi', 'non', 'na', 'look', 'accord', 'resourc', 'unit', 'welcom', 'herr', 'help', 'wir', 'local', 'natur', 'servic', 'è', 'affair', 'behalf', 'fundament', 'hand', 'car', 'qui', 'kosovo', 'men', 'τις', 'toward', 'product', 'approv', 'agenda', 'organis', 'parlamento', 'manag', 'word', 'after', 'della', 'yet', 'ότι', 'done', 'especi', 'quit', 'second', 'start', 'period', 'variou', 'through', 'como', 'condit', 'enlarg', 'justic', 'thing', 'integr', 'extrem', 'becom', 'call', 'someth', 'applic', 'long', 'valu', 'whole', 'effort', 'uma', 'dure', 'favour', 'court', 'sobr', 'σε', 'prevent', 'find', 'exist', 'anoth', 'compani', 'cost', 'awar', 'talk', 'não', 'clearli', 'man', 'από', 'τα', 'sen', 'au', 'approach', 'million', 'τη', 'com', 'ikk', 'addit', 'woman', 'prodi', 'guarante', 'mai', 'strategi', 'safeti', 'each', 'itself', 'esta', 'consider', 'dit', 'demand', 'life', 'close', 'meet', 'economi', 'su', 'access', 'zijn', 'live', 'pay', 'budget', 'aim', 'carri', 'commit', 'caus', 'ist', 'ett', 'appropri', 'é', 'rather', 'vil', 'recent', 'job', 'day', 'understand', 'tax', 'statement', 'attent', 'aan', 'onc', 'oper', 'step', 'seriou', 'prepar', 'στην', 'leader', 'open', 'happen', 'text', 'inde', 'practic', 'idea', 'further', 'act', 'ne', 'essenti', 'trade', 'line', 'dem', 'convent', 'οι', 'nicht', 'togeth', 'forward', 'did', 'sur', 'power', 'down', 'austria', 'int', 'risk', 'real', 'provis', 'everi', 'greater', 'dei', 'let', \"'s\", 'draft', 'niet', 'auf', 'peac', 'actual', 'intend', 'feel', 'limit', 'política', 'certainli', 'minist', 'larg', 'guidelin', 'senhor', 'joint', 'document', 'health', 'δεν', 'person', 'solut', 'gentleman', 'central', 'urban', 'ao', 'rais', 'transpar', 'invest', 'ladi', 'pa', 'face', 'alla', 'agricultur', 'commissi', 'parlement', 'prioriti', 'progress', 'deze', 'address', 'better', 'assist', 'crimin', 'conclus', 'kind', 'alway', 'lack', 'comissão', 'qu', 'affect', 'firstli', 'αυτό', 'portugues', 'success', 'least', 'disast', 'societi', 'consequ', 'comisión', 'share', 'food', 'energi', 'comment', 'although', 'three', 'back', 'aspect', 'reach', 'name', 'ook', 'produc', 'bring', 'realli', 'difficult', 'reduc', 'worden', 'im', 'mind', 'coordin', 'sie', 'lead', 'busi', 'seem', 'task', 'administr', 'special', 'rapport', 'auch', '\\xad', 'complet', 'individu', 'high', 'koch', 'month', 'intergovernment', 'type', 'qualiti', 'get', 'small', 'coher', 'todo', 'context', 'request', 'remain', 'expect', 'entr', 'cypru', 'democraci', 'danger', 'par', 'receiv', 'begin', 'standard', 'often', 'hr', 'play', 'event', 'mi', 'field', 'wij', 'avail', 'basic', 'kommiss', 'particip', 'free', 'recognis', 'money', 'ma', 'consum', 'speak', 'answer', 'mit', 'past', 'schroedter', 'eur', 'ou', 'ei', 'while', 'move', 'might', 'upon', 'werden', 'n', 'regional', '2000-2006', 'popul', 'han', 'sure', 'tabl', 'detta', 'dialogu', 'precis', 'her', 'third', 'financ', 'τον', 'sustain', 'grant', 'introduc', 'war', 'secondli', 'tri', 'charter', 'combat', 'singl', 'simpli', 'demonstr', 'total', 'technic', 'challeng', 'monitor', 'week', 'remind', 'cohes', 'fulli', 'eller', 'stress', 'paper', 'denn', 'fru', 'previou', 'unfortun', 'doubt', 'best', 'plea', 'decid', 'noth', 'show', 'moment', 'plu', 'cover', 'benefit', 'construct', 'manufactur', 'vill', 'contain', 'στο', 'encourag', 'stand', 'ourselv', 'full', 'fight', 'ass', 'má', 'région', 'note', 'vou', 'dett', 'due', 'nu', 'unemploy', 'ad', 'austrian', 'myö', 'care', 'parlamentet', 'sever', 'programa', 'enough', 'interreg', 'longer', 'heeft', 'wil', 'τους', 'elect', 'nevertheless', 'mere', 'conflict', 'arvoisa', 'associ', 'balanc', 'suggest', 'perhap', 'harmonis', 'komi', 'crime', 'amsterdam', 'main', 'bodi', 'constitut', 'ο', 'bear', 'regioni', 'congratul', 'stabil', 'dy', 'door', 'berend', 'fondo', 'στις', 'colleagu', 'draw', 'sig', 'europe', 'immigr', 'strengthen', 'littl', 'turkey', 'grand', 'c', 'moeten', 'offici', 'amount', 'regiõ', 'ago', 'pollut', 'også', 'criterion', 'intent', 'train', 'effici', 'fond', 'excel', 'también', 'read', 'critic', 'tell', 'så', 'experi', 'président', 'também', 'fall', 'partnership', 'capit', 'sono', 'επιτροπή', 'motion', 'worker', 'foreign', 'item', 'solidar', 'offer', 'five', 'build', 'skal', 'indic', 'damag', 'sind', 'turn', 'relatório', 'verslag', 'voorzitt', 'detail', 'minor', 'confid', 'key', 'europea', 'absolut', 'model', 'crucial', 'bij', 'hold', 'consist', 'monsieur', 'fra', 'off', 'stage', 'examin', 'extend', 'abov', 'french', 'important', 'maintain', 'proper', 'factor', 'though', 'oblig', 'modo', 'μας', 'seen', 'civil', 'exchang', 'grupo', 'resolv', 'regionen', 'regio', 'wie', 'sua', 'recommend', 'connect', 'onorevol', 'πρέπει', 'soon', 'fair', 'ser', 'questo', 'parlament', 'tomorrow', 'politiqu', 'punto', 'nor', 'cen', 'intervent', 'difficulti', 'senhora', 'κατά', 'relev', 'substanc', 'κύριε', 'compet', 'enabl', 'four', 'speaker', 'mijnheer', 'bericht', 'link', 'cett', 'concentr', 'extent', 'euro', 'whose', 'offic', 'relazion', 'global', 'themselv', 'independ', 'despit', 'restrict', 'conclud', 'tout', 'fail', 'submit', 'skull', 'franc', 'left', 'flexibl', 'εν', 'fundo', 'list', 'señor', 'anch', 'socialist', 'defin', 'observ', 'esto', 'jo', 'signific', 'dessa', 'keep', 'sign', 'him', 'μια', 'never', 'σας', 'border', 'judici', 'side', 'until', 'sich', 'jäsen', 'renew', 'transfer', 'origin', 'estado', 'oil', 'compromis', 'price', 'ground', 'held', 'definit', 'sit', 'vehicl', 'στη', 'ten', 'nell', 'true', 'territori', 'wird', 'ovat', 'hebben', 'content', 'formand', 'min', 'potenti', 'poverti', 'technolog', 'exclus', 'aux', 'möchte', 'consult', 'honour', 'white', 'οποία', 'pas', 'från', 'skall', 'unionen', 'puhemi', 'speech', 'declar', 'hat', 'kun', 'movement', 'deputado', 'reflect', 'minut', 'πρόεδρε', 'she', 'highlight', 'maar', 'μου', 'everyon', 'ai', 'talman', 'reject', 'currenc', 'light', 'entir', 'overal', 'throughout', 'add', 'found', 'impact', 'island', 'labour', 'i.e', 'confirm', 'undertak', 'president-in-offic', 'igc', 'everyth', 'discharg', 'furthermor', 'acp', 'macedonia', 'bei', 'zur', 'assembl', 'denna', 'tämä', 'home', 'function', 'frau', 'urgent', 'either', 'più', 'europeo', 'ont', 'son', 'när', 'globalis', 'muito', 'deleg', 'among', 'euroopan', 'purpos', 'bien', 'behind', 'alloc', 'seek', 'mål', 'unaccept', 'quickli', 'recycl', 'nel', 'brought', 'emphasis', 'punkt', 'orient', 'attempt', 'erika', 'colega', 'element', 'date', 'strateg', 'också', 'republ', 'programma', 'hier', 'statu', 'europeiska', 'thu', 'urg', 'suffici', 'myself', 'growth', 'país', 'condemn', 'ought', 'chanc', 'kommer', 'discrimin', 'defend', 'privat', 'hear', 'einer', 'måste', 'stati', 'outsid', 'repeat', 'appear', 'assur', 'africa', 'land', 'zone', 'ved', 'sourc', 'kunnen', 'stop', 'goal', 'except', 'été', 'minimum', 'über', 'signor', 'immedi', 'ni', 'dieser', 'depend', 'justifi', 'analys', 'gern', 'huge', 'structurel', 'converg', 'expert', 'heard', 'haben', 'monetari', 'instead', 'prove', 'china', 'head', 'convinc', 'επιτροπής', 'obvious', 'enorm', 'authoris', 'occur', 'desir', 'tot', '000', 'ever', 'paragraph', 'road', 'proposta', 'away', 'politica', 'target', 'scope', 'mig', 'rate', 'studi', 'tale', 'collect', 'j', 'vital', 'analysi', 'caso', 'var', 'strong', 'join', 'meget', 'incorpor', 'research', 'former', 'mycket', 'parliamentari', 'haider', 'occas', 'moet', 'polic', 'mevrouw', 'λόγω', 'nog', 'ell', 'februari', 'gli', 'ant', 'determin', 'subsidiar', 'europæisk', 'refuge', 'led', 'ship', 'leav', 'child', 'gäller', 'materi', 'violat', 'siitä', 'sort', 'helsinki', 'modernis', 'wenn', 'contrari', 'port', 'investig', 'evan', 'instanc', 'fondi', 'os', 'januari', 'code', 'foi', 'delay', 'old', 'dere', 'infrastructur', 'program', 'circumst', 'dis', 'nato', 'concili', 'explain', 'creation', 'sin', 'ole', 'tämän', 'spirit', 'thought', 'send', 'beyond', 'serious', 'gostaria', 'innov', 'ambiti', 'porqu', 'partner', 'avoid', 'sehr', 'network', 'πολύ', 'yesterday', 'duti', 'κυρία', 'κ.', 'cross-bord', 'god', 'palacio', 'decemb', 'emerg', 'quanto', 'voudrai', 'όπως', 'suffer', 'mijn', 'regionalpolitik', 'seu', 'press', 'αυτή', 'enter', 'proceed', 'arrang', 'uni', 'beleid', 'européenn', 'dimens', 'probabl', 'princip', 'histori', 'liber', 'objectivo', 'état', 'design', 'medida', 'fear', 'ue', 'sitä', 'goe', 'concept', 'balkan', 'run', 'forma', 'haluaisin', 'save', 'dealt', 'objetivo', 'realiti', 'lugar', 'budgetari', 'união', 'kolleg', 'similar', 'dag', 'mein', 'oppos', 'citi', 'jotka', 'safeguard', 'review', 'ήθελα', 'correct', 'nella', 'almost', 'wale', 'messag', 'billion', 'år', 'έκθεση', 'unionin', 'wordt', 'green', 'mechan', 'identifi', 'fait', 'forbindels', 'wat', 'pension', 'sviluppo', 'argument', 'lot', 'sea', 'fish', 'tanto', 'malta', 'leur', 'ecolog', 'comprehens', 'στα', 'vore', 'session', 'march', 'sia', 'europeu', 'fraud', 'relationship', 'sensit', 'tai', 'pelo', 'interpret', 'régional', 'impos', 'europäischen', 'ihr', 'enterpris', 'storm', 'centuri', 'via', 'liabil', 'capac', 'serv', 'avec', 'brussel', 'rel', 'precautionari', 'leitlinien', 'concret', 'bank', 'desenvolvimento', 'topic', 'crisi', 'heart', 'være', 'east', 'around', 'short', 'lidstaten', 'conduct', 'tradit', 'directli', 'threat', 'attitud', 'objectif', 'scheme', 'centr', 'gain', 'manner', 'climat', 'nuclear', 'fulfil', 'farmer', 'knowledg', 'sont', 'inspect', 'excess', 'permit', 'sanction', 'período', 'nur', 'annual', 'applaus', 'morn', 'gave', 'refus', 'genuin', 'complex', 'exercis', 'développ', 'employe', 'remark', 'cui', 'económica', 'europeia', 'wast', 'mutual', 'unión', 'long-term', 'efter', 'vez', 'adequ', 'mep', 'barón', 'restor', 'extern', 'distribut', 'vid', 'contradict', 'unanim', 'orientaçõ', 'pressur', 'suppli', 'firm', 'ethnic', 'sr.', 'era', 'rang', 'listen', 'επίσης', 'vor', 'heer', 'educ', 'zona', 'anyth', 'emploi', 'obviou', 'itali', 'rightli', 'properli', 'earlier', 'spend', 'arm', 'está', 'estruturai', 'invit', 'quando', 'wait', 'm.', 'direttrici', 'neighbour', 'grupp', 'degre', 'muy', 'präsident', 'adapt', 'richtsnoeren', 'albanian', 'fellow', 'desarrollo', 'zal', 'ένα', 'wonder', 'forget', 'regret', 'histor', 'strand', 'ta', 'já', 'hvi', 'également', 'thirdli', 'inom', 'shown', 'nach', 'outcom', 'realis', 'facto', 'chamber', 'famili', 'six', 'prosecutor', 'nonetheless', 'accid', 'barnier', 'claim', 'noch', 'collega', 'embargo', 'reserv', 'respond', 'later', 'profit', 'revis', 'estructural', 'unser', 'oder', 'return', 'focu', 'être', 'tackl', 'perspect', 'spain', 'oral', 'turkish', 'arriv', 'victim', 'miembro', 'broad', 'emprego', 'willen', 'ponto', 'μία', 'phase', 'alueiden', 'otherwis', 'quiero', 'hard', 'crespo', 'moreov', 'counterfeit', 'appreci', 'simpl', 'diver', 'membri', 'directiva', 'defenc', 'medium', 'problema', 'às', 'stato', 'strutturali', 'regim', 'anim', 'yugoslavia', 'diesem', 'sound', 'cut', 'figur', 'restructur', 'trabalho', 'extens', 'rememb', 'option', 'deriv', 'succeed', 'joka', 'derfor', 'esser', 'tobin', 'onz', 'decision-mak', 'nossa', 'portug', 'membr', 'incom', 'pero', 'judg', 'tamper', 'parlamentin', 'sätt', 'αφορά', 'seguridad', 'drawn', 'därför', 'rise', 'bem', 'exactli', 'ένωσης', 'zou', 'greec', 'elig', 'farligt', 'took', 'neg', 'εάν', 'learn', 'mener', 'threaten', 'young', 'separ', 'sein', 'maritim', 'amongst', 'segurança', 'so-cal', 'hensyn', 'meer', 'zum', 'communautair', 'ή', 'einen', 'müssen', 'dispos', 'scale', 'zich', 'vista', 'specul', 'insist', 'ireland', 'impress', 'across', 'entwicklung', 'στον', 'prefer', 'credibl', 'meidän', 'round', 'known', 'section', 'formal', 'prosper', 'regionerna', 'ii', 'forthcom', 'earli', 'card', 'flag', 'poor', 'summit', 'scientif', 'roll', 'clarifi', 'thousand', 'ως', 'method', 'fr', 'sicurezza', 'tal', 'serbia', 'empleo', 'ontwikkel', 'vervoer', 'enforc', 'solv', 'σχετικά', 'medium-s', 'uit', 'qual', 'pela', 'lavoro', 'får', 'publish', 'alon', 'momento', 'henc', 'campaign', 'pursu', 'lomé', 'sui', 'señoría', 'können', 'charg', 'toda', 'announc', 'comm', 'favor', 'trabajo', 'repli', 'lie', 'assum', 'promis', 'swoboda', 'laid', 'även', 'politik', 'deserv', 'germani', 'meno', 'γεγονός', 'ze', 'opposit', 'co', 'wide', 'aber', 'compli', 'monopoli', 'influenc', 'unabl', 'reinforc', 'niiden', 'nieuw', 'select', 'περιφέρειες', 'supervis', 'έχει', 'militari', 'evalu', 'même', 'ident', 'degli', 'anyon', 'decentralis', 'treat', 'steel', 'advanc', 'ander', 'grow', 'obtain', 'deliv', 'neither', 'evid', 'along', 'attach', 'ter', 'heritag', 'south', 'remot', 'acknowledg', 'sekä', 'feedingstuff', 'structuurfondsen', 'señora', 'seri', 'worri', 'sécurité', 'prison', 'tourist', 'es', 'relativa', 'directric', 'internet', 'κοινοβούλιο', 'hun', 'οποίες', 'αλλά', 'violenc', 'hecho', 'facilit', 'maximum', 'engag', 'sovereignti', 'mark', 'essa', 'septemb', 'envisag', 'post', 'substanti', 'mutta', 'etc', 'isol', 'onorevoli', 'letter', 'test', 'higher', 'candid', 'trasporti', 'death', 'cod', 'elimin', 'questa', 'version', 'olaf', 'american', 'stabilis', 'mitgliedstaaten', 'happi', 'belong', 'vara', 'rapid', 'describ', 'koska', 'voi', 'ban', 'visit', 'p.m', 'export', 'patten', 'b', 'daarom', 'proposit', 'européen', 'toler', 'coesão', 'age', 'decad', 'hyvin', 'grave', 'national', 'sometim', 'clean', 'mainli', 'uno', 'cohésion', 'vain', 'whom', 'nuestra', 'feder', 'cohesión', 'collègu', 'expenditur', 'altern', 'ci', 'lost', 'data', 'mandat', 'xenophobia', 'μεταξύ', 'approxim', 'υπόψη', 'truli', 'univers', 'há', 'coesion', 'paid', 'mio', 'record', 'få', 'explan', 'poetter', 'mine', 'sulla', 'udvikl', 'gruppo', 'aumento', 'exploit', 'incid', 'fine', 'translat', 'unless', 'sent', 'endors', 'kann', 'launch', 'eerst', 'emphasi', 'appeal', 'attack', 'niveau', 'ano', 'zeer', 'trè', 'año', 'sphere', 'abil', 'racism', 'highli', 'fracti', 'wit', 'introduct', 'vielä', 'donc', 'komissio', 'corrupt', 'ec', 'ya', 'tipo', 'προς', 'timet', 'strukturfond', 'packag', 'γραμμές', 'ponent', 'strict', 'reduct', 'länder', 'check', 'naar', 'staff', 'ignor', 'huomioon', 'imposs', 'remov', 'overcom', 'prospect', 'där', 'prioridad', 'empresa', 'asylum', 'notr', 'dire', 'signora', 'italian', 'easi', 'κράτη', 'medlemsstatern', 'correspond', 'half', 'zoal', 'angola', 'πολιτική', 'kuin', 'reiter', 'θέμα', 'rest', 'quot', 'ahead', 'questão', 'strukturfonderna', 'qualifi', 'apart', 'når', 'plenari', 'lisbon', 'capabl', 'tanker', 'zo', 'late', 'lienemann', 'lhe', 'meu', 'são', 'commissario', 'sige', 'burden', 'τρόπο', 'hur', 'contact', 'här', 'greek', 'ultim', 'merger', 'siihen', 'choic', 'μέλη', 'combin', 'fyrom', 'ye', 'stipul', 'sole', 'preserv', 'bara', 'seattl', 'advoc', 'olemm', 'propuesta', 'hour', 'donor', 'failur', 'apena', 'consensu', 'jotta', 'transit', 'codecis', 'exclud', 'await', 'έχουν', 'entitl', 'ziel', 'compar', 'tutti', 'aris', 'formul', 'ambit', '12.00', 'betänkand', 'dam', 'uw', 'λόγο', 'sillä', 'vilja', 'économiqu', 'sido', 'merci', 'tussen', 'travail', 'novemb', 'came', 'compens', 'low', 'mon', 'voto', 'enmienda', 'spanish', 'cuenta', 'mehr', 'betænkn', 'estados-membro', 'categori', 'κατευθυντήριες', 'dal', 'commissari', 'vigor', 'wrong', 'advis', 'συνοχής', 'όμως', 'ciò', 'συζήτηση', 'june', 'cuba', 'catastroph', 'entail', 'muß', 'contin', 'river', 'israel', 'appoint', 'siksi', 'europol', 'segundo', 'plant', 'stock', 'resid', 'niin', 'επί', 'hvor', 'asia', 'readi', 'mccarthi', 'spent', 'obstacl', 'reconstruct', 'kingdom', 'haar', 'geneva', 'root', 'commissair', 'underli', 'british', 'briefli', 'lang', 'norm', 'denmark', 'abus', 'german', 'ben', 'brief', 'end-of-lif', 'conserv', 'delight', 'civilis', 'tien', 'retningslinjern', 'wulf-mathi', 'perfectli', 'exempt', 'blev', 'commerci', 'millennium', 'kuitenkin', 'presenc', 'colleghi', 'olisi', 'taxat', 'andersson', 'pre-access', 'mellan', 'aussi', 'therebi', 'hanno', 'middl', 'dalla', 'riktlinjerna', 'releas', 'certainti', 'ainda', 'nest', 'protocol', 'hulten', 'damit', 'satisfi', 'regionern', 'processo', 'pact', 'resultado', 'agenc', 'alcohol', 'prime', 'auditor', 'enhanc', 'así', 'born', 'tässä', 'περιφερειών', 'tutto', 'eftersom', 'logic', 'nyt', 'grund', 'estamo', 'sålede', 'geen', 'languag', 'investor', 'último', 'fruteau', 'nya', 'werkgelegenheid', 'loss', 'advantag', 'jonka', '...', 'block', 'ήταν', 'arbejd', 'tunnel', 'rich', 'ho', 'sul', 'sull', 'økonomisk', 'estim', 'recognit', 'sentido', 'appar', 'kort', 'olen', 'reaction', 'gender', 'chine', 'eastern', 'sri', 'aspecto', 'prior', 'loro', 'ratifi', 'front', 'vad', 'mellem', 'inden', 'ανάπτυξης', 'esa', 'dar', 'μεταφορών', 'serb', 'radic', 'focus', 'economisch', 'lay', 'lose', 'count', 'werk', 'featur', 'somewhat', 'durch', 'cela', 'consolid', 'gøre', 'russian', 'voic', 'utveckl', 'perman', 'artikel', 'kollegen', 'farm', 'dispar', 'tool', 'lastli', 'fråga', 'maggior', 'mesur', 'big', 'tage', 'subsequ', 'principio', 'whilst', 'greatest', 'surround', 'numer', 'punt', 'presidenta', 'particolar', 'fazer', 'sólo', 'endeavour', 'juli', 'ihnen', 'vatanen', 'sempr', 'onder', 'weg', 'outlin', 'echter', 'insbesonder', 'floor', 'increasingli', 'treatment', 'north', 'highest', 'sweden', 'scienc', 'manièr', 'destroy', 'ανάπτυξη', 'bad', 'confus', 'signal', 'första', 'göra', 'grate', 'easier', 'reken', 'programmi', 'upp', 'genom', 'town', 'danish', 'ucit', 'steun', 'dest', 'hyvät', 'vessel', 'wors', 'futuro', 'clarif', 'paesi', 'journalist', 'gradual', 'bse', 'behaviour', 'urgenc', 'paí', 'properti', 'harm', 'afford', 'prima', 'hatzidaki', 'store', 'mercancía', 'penalti', 'distort', 'avon', 'legitim', 'zero', 'bind', 'πολιτικής', 'christian', 'xenophob', 'latter', 'uniform', 'morgen', 'kouchner', 'romano', 'già', 'nei', 'notic', 'hundr', 'absenc', 'seja', 'exig', 'membership', 'berlin', 'kollega', 'medlemsstaterna', 'offenc', 'acqui', 'closer', 'inequ', 'osalta', 'nye', 'präsidentin', 'deadlin', 'isra', 'ordem', 'tempo', 'einem', 'strukturfonden', 'sagen', 'feed', 'jour', 'iii', 'giorno', 'säga', 'belang', 'matièr', 'fraktion', 'ændringsforslag', 'immer', 'moral', 'utan', 'spørgsmål', 'periódico', 'sum', 'ωστόσο', 'confin', 'transact', 'oportunidad', 'elsewher', 'payment', 'kuten', 'situati', 'näin', 'πως', 'ταμείων', 'zij', 'disappoint', 'heb', 'deni', 'deficit', 'weak', 'parlamentti', 'lesson', 'gang', 'conta', 'mayor', 'scrapi', 'strongli', 'surfac', 'worth', 'esittelijä', 'κοινοβουλίου', 'territorio', 'board', 'solo', 'obiettivo', 'compon', 'inclus', 'molto', 'atenção', 'desd', 'cypriot', 'competitividad', 'gran', 'experienc', 'dia', 'papel', 'accus', 'channel', 'shape', 'wurd', 'undertaken', 'ekonomiska', 'tou', 'soit', 'locat', 'mitä', 'trend', 'disadvantag', 'näiden', 'imagin', 'break', 'ordin', 'quest', 'rede', 'peligrosa', 'αυτά', 'inevit', 'εργασίας', 'einig', 'damer', 'judgement', 'cox', 'pertanto', 'vilket', 'retningslinj', 'firmli', 'utilis', 'format', 'marchandis', 'rout', 'rail', 'phenomenon', 'asset', 'ejido', 'racist', 'retain', 'wider', 'hvad', 'herrn', 'built', 'allianc', 'votr', 'διαρθρωτικών', 'illeg', 'betrek', 'news', 'weaken', 'whatev', 'normal', 'attend', 'stor', 'underlin', 'systemat', 'cada', 'fisheri', 'wealth', 'débat', 'pure', 'chairman', 'interven', 'alleen', 'dall', 'pericolos', 'terribl', 'pobr', 'scandal', 'ngo', 'kinnock', 'foot', 'warn', 'wipo', 'admit', 'andra', 'implic', 'tema', 'miss', 'lanka', 'gevaarlijk', 'autr', 'sobretudo', 'valid', 'spoke', 'eye', 'octob', 'pillar', 'hänsch', 'rapporten', 'riktlinj', 'maken', 'nogl', 'replac', 'orientacion', 'dangereus', 'domin', 'stem', 'ομάδα', 'πιο', 'suspend', 'ευρωπαϊκής', 'finish', 'seven', 'necessarili', 'motivo', 'zwischen', 'mercadoria', 'perigosa', 'regionala', 'quota', 'trust', 'periodo', 'truth', 'särskilt', 'allt', 'kanssa', 'rigor', 'depart', 'cuando', 'día', 'modern', 'averag', 'profession', 'mistak', 'touch', 'ordr', 'sincer', 'fase', 'des', 'facil', 'støtte', 'υπάρχει', 'ultraperiférica', 'sensibl', 'subsidi', 'sociala', 'første', 'blevet', 'perform', 'occupazion', 'οποίο', 'quelqu', 'grado', 'persist', 'brok', 'något', 'darauf', 'gaan', 'wto', 'sexto', 'mene', 'courag', 'clariti', 'aantal', 'landen', 'incent', 'regiona', '00', 'travel', 'problemen', 'chemic', 'ganz', 'ändringsförslag', 'depriv', 'denk', 'gaat', 'costa', 'belangrijk', 'fatto', 'direttiva', 'må', 'insur', 'disappear', 'εδώ', 'west', 'mich', 'acuerdo', 'agli', 'safe', 'ohjelmien', 'palestinian', 'settor', 'forslag', 'weapon', 'geograph', 'aqui', 'coupl', 'vigtigt', 'cinco', 'volta', 'divid', 'danub', 'situación', 'southern', 'aspir', 'revers', 'talus', 'kommissionär', 'tener', 'surpris', 'mission', 'anticip', 'hay', 'none', 'statist', 'sådan', 'samt', 'politician', 'particuli', 'non-government', 'denen', 'kommissær', 'fordi', 'assim', 'primeiro', 'air', 'liberalis', 'intoler', 'daar', 'waren', 'έκθεσης', 'só', 'transnat', 'jaar', 'veiligheid', 'direktivet', 'groundwat', 'enjoy', 'turismo', 'amendementen', 'aandacht', 'fram', 'επίτροπε', 'över', 'mer', 'comissário', 'drink', 'considér', 'tra', 'vari', 'coast', 'conveni', 'våra', 'pouco', 'doubl', 'durant', 'coalit', 'taxpay', 'tem', 'mme', 'nämä', 'próximo', 'deshalb', 'dont', 'matéria', 'noi', 'ländlichen', 'someon', 'comisario', 'friend', 'whatsoev', 'strasbourg', 'heut', 'faut', 'documento', 'sympathi', 'mediterranean', 'reconcili', 'nuestro', 'podemo', 'contract', 'obiettivi', 'tibet', 'complic', 'finn', 'orden', 'fiscal', 'oli', 'hyvä', 'encor', 'hacer', 'familiar', 'ppe-d', 'effet', 'desemprego', 'αυτές', 'breach', 'poorest', 'gjort', 'debatt', 'reconcil', 'importanza', 'mij', 'mir', 'core', 'write', 'importancia', 'cuestión', 'credit', 'τώρα', 'μόνο', 'εε', 'luxembourg', 'wel', 'θέση', 'será', 'uphold', 'abandon', 'top', 'συνάδελφοι', 'doch', 'vast', 'aplicação', 'dentro', 'spite', 'μπορεί', 'volum', 'περιοχές', 'betänkandet', 'recoveri', 'jurisdict', 'forest', 'halt', 'όταν', 'dann', 'sowi', 'doen', 'goederen', 'nosotro', 'vida', 'proport', 'richtlijn', 'périod', 'erityisesti', 'interno', 'vorrei', 'entri', 'occorr', 'follow-up', 'written', 'sixth', 'told', 'dutch', 'dank', 'ώστε', 'tärkeää', 'syria', 'northern', 'diesen', 'frågan', 'proof', 'discussion', 'entrepris', 'forestri', 'laten', 'εμπορευμάτων', 'alguna', 'drop', 'weil', 'recurso', 'zullen', 'uvr', 'vaarallisten', 'aineiden', 'mainstream', 'steed', 'alten', 'sino', 'καθώς', 'wallström', 'devast', 'deve', 'mina', 'voorstel', 'equip', 'regist', 'kommissar', 'εκ', 'rapidli', 'alteraçõ', 'duidelijk', 'απασχόλησης', 'realment', 'sondern', 'yourself', 'satisfact', 'nouvel', 'hemo', 'cher', 'χώρες', 'accompani', 'zouden', 'drive', 'understood', 'examen', 'supplement', 'sidst', 'jahr', 'volgen', 'déjà', 'γραμμών', 'zeggen', 'gebieden', 'όχι', 'realist', 'stimul', 'ιδιαίτερα', 'redan', 'tid', 'regardless', 'dazu', 'babitski', 'compat', 'partli', 'fit', 'varsinkin', 'forbedr', 'criticis', 'contra', 'withdraw', 'fischler', 'nosso', 'pt', 'kunn', 'worst', 'vragen', 'owner', 'drug', 'dossier', 'symbol', 'tästä', 'waar', 'adjust', 'richtlini', 'ahora', 'nó', 'alt', 'decir', 'background', 'digniti', 'humanitarian', 'execut', 'trasporto', 'near', 'hoy', 'partido', 'socialista', 'inhabit', 'spread', 'δύο', 'situationen', 'attenzion', 'τι', 'mucho', 'tätä', 'satisfactori', 'gall', 'notif', 'vulner', 'vigil', 'massiv', 'milosev', 'thursday', 'allered', 'cederschiöld', 'tre', 'sme', 'va', 'elderli', 'ihrer', 'nuevo', 'kaikki', 'står', 'σημαντικό', 'strukturpolitik', 'nécessair', 'hänen', 'conseil', 'komen', 'veel', 'punish', 'περίοδο', 'smaller', 'μεταφορές', 'ευρωπαϊκή', 'især', 'theato', 'επειδή', 'rakennerahastojen', 'april', 'jälkeen', 'acordo', 'τομέα', 'dizer', 'då', 'ideolog', 'postpon', 'dare', 'bereit', 'five-year', 'materia', 'welfar', 'isso', 'bilater', 'décision', 'advic', 'siamo', 'hospit', 'claus', 'tank', 'grote', 'respeito', 'burger', 'interfer', 'foremost', 'abstain', 'collabor', 'pursuant', 'eventu', 'responsabilidad', 'alteração', 'algun', 'heavi', 'enig', 'match', 'σήμερα', 'lopuksi', 'deux', 'omdat', 'θέλω', 'utskottet', 'où', 'inadequ', 'fli', 'nemen', 'ordføreren', 'suitabl', 'quali', 'novo', 'modif', 'direktiv', 'προσοχή', 'ambient', 'amélior', 'poi', 'projecto', 'devot', 'reliabl', 'nielson', 'situazion', 'forum', 'danken', 'prosecut', 'quisiera', 'helt', 'udvalget', 'trata', 'rådet', 'anser', 'europa-parlamentet', 'modifi', 'cap', 'cet', 'trial', 'nombr', 'peut', 'mesmo', 'nearli', 'bonn', 'langen', 'room', 'crear', 'endnu', 'tragic', 'sa', 'situação', 'merit', 'gör', 'emendamenti', 'περιφερειακής', 'posibl', 'bound', 'attract', 'slick', 'doelstellingen', 'specifi', 'ongo', 'nível', 'asunto', 'shortcom', 'sudr', 'expens', 'domain', 'vaan', 'constitu', 'wichtig', 'chômage', 'mot', 'κατάσταση', 'alcuni', 'redund', 'scientist', 'stanc', 'fate', 'sra', 'deplor', 'några', 'sektor', 'lokal', 'hele', 'mitrovica', 'aquí', 'doit', 'intercept', 'utmost', 'fifteen', 'manera', 'foundat', 'apoio', 'mogelijk', 'suppos', 'moi', 'igen', 'english', 'characteris', 'avez', 'deputada', 'projekt', 'jossa', 'usa', 'medio', 'projet', 'protest', 'hoje', 'occupi', 'sujet', 'stake', 'eficaz', 'copyright', 'dissemin', 'conto', 'afternoon', 'nikitin', 'perpetr', 'ollut', 'sitten', 'raison', 'bedeutung', 'priorità', 'monti', 'eivät', 'bör', 'illustr', 'secondo', 'pedido', 'primarili', 'netherland', 'primer', 'preced', 'interinstitut', 'alguma', 'relativament', 'liberti', 'viel', 'countrysid', 'catástrof', 'corri', 'otra', 'berichterstatterin', 'kein', 'monday', 'koske', 'erittäin', 'betreft', 'owe', 'sec', 'tällä', 'έχουμε', 'conseguir', 'όσον', 'ασφάλεια', 'punkten', 'geht', 'choos', 'comitolog', 'kept', 'zelf', 'pen', 'romania', 'muligt', 'gdp', 'caput', 'isto', 'problèm', 'ευρώπη', 'regionalen', 'anmod', 'handl', 'περισσότερο', 'himself', 'brengen', 'stora', 'secteur', 'arbet', 'wurtz', 'motiv', 'ήδη', 'frage', 'aussprach', 'importância', 'requisito', 'ancora', 'været', 'landsbygden', 'dafür', 'eli', 'små', 'actividad', 'flautr', 'stellen', 'uniqu', 'disoccupazion', 'easili', 'politich', 'desidero', 'adher', 'περιοχών', 'voimm', 'προκειμένου', 'speed', 'cn', 'minha', 'många', 'στους', 'föredraganden', 'än', 'quero', 'äußerst', 'regionai', 'electr', 'jetzt', 'rack', 'ospar', 'ideal', 'art', 'mieltä', 'agora', 'μόνον', 'lor', 'oggi', 'regionali', 'barrier', 'fourth', 'kosovar', 'pari', 'compt', 'godt', 'gmo', 'fem', 'annex', 'hardli', 'intellectu', 'complement', 'widen', 'ca', 'simplifi', 'parec', 'sentenc', 'deep', 'remerci', 'destruct', 'undermin', 'mang', 'bl.a', 'disput', 'recht', 'tragedi', 'civilian', 'irish', 'yugoslav', 'arbeit', 'giver', 'geacht', 'hoe', 'jeopardis', 'circul', 'lage', 'uncertainti', 'audit', 'regular', 'compulsori', 'possível', 'efeito', 'bør', 'namen', 'ακόμη', 'ausschuß', 'ppe', 'felt', 'bureaucraci', 'western', 'proyecto', 'ob', 'necessário', 'veze', 'werkloosheid', 'hänsyn', 'norma', 'usual', 'boost', 'centralis', 'disciplin', 'bird', 'undoubtedli', 'proced', 'maßnahmen', 'parallel', 'gehouden', 'perché', 'programmen', 'shortli', 'visibl', 'acp-eu', 'semana', 'sejam', 'temporari', 'anné', 'είχε', 'interess', 'haluan', 'legislatura', 'ello', 'sedan', 'notabl', 'economica', 'acquir', 'åtgärder', 'corpor', 'communist', 'went', 'scoreboard', 'gap', 'florenz', 'toe', 'hvordan', 'organ', 'joita', 'slecht', 'marginalis', 'πρόταση', 'oft', 'relatric', 'abbiamo', 'cosa', 'sv', 'dato', 'relatora', 'tribun', 'puesto', 'accordingli', 'vice-presid', 'kill', 'soprattutto', 'ed', 'debe', 'drastic', 'willing', 'wage', 'hace', 'eben', 'thorough', 'statut', 'sake', 'vooral', 'dagsordenen', 'weiter', 'wogau', 'uk', 'gale', 'foram', 'mietinnön', 'princípio', 'nome', 'προγραμμάτων', 'strictli', 'constantli', 'vitorino', 'dado', 'nomeadament', 'soltanto', 'estou', 'stronger', 'controversi', 'flood', 'shift', 'κάθε', 'desigualdad', 'pib', 'εισηγήτρια', 'solid', 'machen', 'lower', 'kunna', 'tiempo', 'conclusion', 'correctli', 'pose', 'automat', 'lift', 'elector', 'efficac', 'yhteisön', 'vuoden', 'atención', 'kollegat', 'recal', 'importantli', 'διότι', 'vorschlag', 'dog', 'unnecessari', 'm', 'europäisch', 'varsin', 'tweed', 'particulièr', 'nodig', 'relator', 'ansvar', 'programmet', 'ταμεία', 'έναν', 'classif', 'standardis', 'två', 'punkter', 'otc', 'pertain', 'όλα', 'carretera', 'synergi', 'fpö', 'glad', 'updat', 'problemi', 'assent', 'hän', 'abstimmung', 'jäsenvaltioiden', 'retir', 'ciudadano', 'stenzel', 'bomb', 'dynam', 'armenia', 'televis', 'yo', 'creo', 'chose', 'caro', 'aspekt', 'swedish', 'mukaan', 'premièr', 'priorité', 'texto', 'pietro', 'maatregelen', 'retard', 'tse', 'arbeitslosigkeit', 'certo', 'america', '¿', 'tagesordnung', 'agradec', 'votação', 'path', 'ønsker', 'randlag', 'preciso', 'explicitli', 'electron', 'anni', 'komm', 'keen', 'guid', 'tension', 'surviv', 'στόχου', 'betænkningen', 'möjligt', 'russia', 'houden', 'områd', 'lei', 'goed', 'debatten', 'τροπολογίες', 'teidän', 'selv', 'koskevat', 'quer', 'proprio', 'ό', 'fifth', 'petit', 'fast', 'ορισμένες', 'namelijk', 'wijz', 'fin', 'έτσι', 'frontier', 'vandaag', 'reassur', 'relativo', 'abolish', 'samhørigh', 'excus', 'vom', 'texa', 'flere', 'penso', 'viktigt', 'skapa', 'byrn', 'unlik', 'prohibit', 'ambigu', 'afgevaardigden', 'otro', 'cidadão', 'político', 'react', 'möjlighet', 'jörg', 'buena', 'vue', 'concert', 'staat', 'quindi', 'zorgen', 'förslag', 'maastricht', 'tähän', 'jonckheer', 'gibt', 'οικονομικής', 'fourteen', 'argu', 'raft', 'meio', 'portanto', 'erad', 'κατευθυντήριων', 'programação', 'coexist', 'impetu', 'nine', 'pue', 'worthi', 'ultraperifer', 'ration', 'mass', 'misur', 'school', 'krav', 'endast', 'chain', 'interim', 'εμείς', 'outro', 'melhor', 'asian', 'outset', 'όπου', 'stori', 'κυρίως', 'instrumento', 'infrastruktur', 'garantir', 'emot', 'infin', 'iniciativa', 'αυτών', 'summer', 'economia', 'kære', 'práctica', 'abord', 'pued', 'først', 'diseas', 'faith', 'weten', 'cambodia', 'nødvendigt', 'suo', 'derog', 'prise', 'posizion', 'meiner', 'olika', 'infring', 'shame', 'label', 'causa', 'termin', 'razón', 'βαθμό', 'πριν', 'preparatori', 'forskellig', 'ud', 'navnlig', 'notam', 'telephon', 'conclusi', 'schengen', 'weight', 'molti', 'umsetzung', 'chapter', 'third-countri', 'quantiti', 'πλαίσιο', 'reforma', 'paradox', 'alexand', 'push', 'comité', 'anchovi', 'wherea', 'erst', 'font', 'blive', 'programmazion', 'διαρθρωτικά', 'henblik', 'ζήτημα', 'maior', 'decision', 'taget', 'joiden', 'tijd', 'constant', 'dokument', 'genomen', 'detriment', 'utvecklingen', 'grad', 'claro', 'belgium', 'número', 'moin', 'θεωρώ', 'ressourc', 'vraag', 'sicherheit', 'temperatur', 'migrat', 'aujourd', 'hui', 'anterior', 'qué', 'ieder', 'damen', 'habitat', 'haya', 'short-term', 'ιδιαιτέρως', 'ενός', 'revenu', 'addition', 'scrap', 'fællesskabet', 'yderst', 'periferi', 'britain', 'resum', 'yhteydessä', 'expressli', 'divis', 'κόμματος', 'διάταξη', 'olla', 'nun', 'gør', 'unternehmen', 'finland', 'counter', 'εφαρμογή', 'είτε', 'exemplo', 'num', 'razão', 'nostra', 'feasibl', 'silenc', 'respecto', 'begun', 'σημείο', 'letzten', 'dismantl', 'varieti', 'carácter', 'depth', 'otetaan', 'supran', 'dernièr', 'tacka', 'bliver', 'predecessor', 'augment', 'ευρωπαϊκό', 'ge', 'desempleo', 'domest', 'kolleginnen', 'mese', 'alueilla', 'meant', 'vier', 'blame', 'frequent', 'mielessä', 'virksomhed', 'mal', 'peu', 'extraordinari', 'wirklich', 'mia', 'bureaucrat', 'mismo', 'bättre', 'nytt', 'máximo', 'governo', 'resultaten', 'secretary-gener', 'embrac', 'remit', 'rôle', 'vamo', 'platteland', 'tuttavia', 'temp', 'fire', 'tonn', 'neuen', 'mettr', 'ait', 'lobbi', 'prochain', 'turism', 'πρόγραμμα', 'föredragningslistan', 'forese', 'mindr', 'debemo', 'mobil', 'berichterstatt', 'skabe', 'κύριοι', 'forgotten', 'indonesia', 'worthwhil', 'pse', 'conven', 'hitherto', 'graag', 'verheugen', 'schmidt', 'impli', 'επικινδύνων', 'ex', 'part-sess', 'votazion', 'f.ek', 'belgian', 'mielestäni', 'teill', 'vossa', 'directorate-gener', 'maaseudun', 'posição', 'erityisen', 'havel', 'resultat', 'juist', 'cuanto', 'οδηγίας', 'planet', 'scenario', 'senior', 'disabl', 'eikä', 'parlamentari', 'διαδικασία', 'övp', 'spoken', 'telecommun', 'occasion', 'soient', 'wise', 'mainten', 'multiannu', 'intens', 'ruolo', 'zusammenhang', 'ærede', 'error', 'input', 'necessidad', 'föredragand', 'conformidad', 'hazard', 'compliment', 'πρώτη', 'shock', 'ayuda', 'ratif', 'sina', 'gracia', 'debt', 'flow', 'goodyear', 'multin', 'klart', 'foranstaltning', 'prioriteiten', 'ord', 'estrutur', 'angår', 'emu', 'transpos', 'meill', 'net', 'mahdollisimman', 'πω', 'imag', 'αγαπητοί', 'ημερήσια', 'sollten', 'physic', 'direktiivin', 'verzoek', 'prerequisit', 'οικονομική', 'twee', 'allen', 'assunto', 'enkel', 'finnish', 'sammanhållningsfonden', 'maiden', 'περιφερειακών', 'fruit', 'τόσο', 'tant', 'bit', 'havd', 'proceso', 'desper', 'noget', 'ver', 'persecut', 'horizont', 'cittadini', 'fa', 'yttersta', 'pledg', 'somm', 'altro', 'visa', 'citizenship', 'αυτού', 'framför', 'siden', 'basin', 'gestion', 'asid', 'fare', 'daili', 'επομένως', 'disagr', 'dump', 'legitimaci', 'primeira', 'agrícola', 'sem', 'sostegno', 'impres', 'può', 'conjunct', 'inconsist', 'ainsi', 'theori', 'γιατί', 'σώμα', 'sozialen', 'regrett', 'interregion', 'sou', 'tend', 'είμαστε', 'sitt', 'membro', 'gone', 'primera', 'edf', 'complaint', 'klar', 'tremend', 'confidenti', 'paljon', 'områder', 'mismanag', 'binnen', 'lign', 'delic', 'south-east', 'alto', 'provinc', 'constitui', 'tehdä', 'livello', 'utilização', 'commend', 'rationalis', 'permiss', 'doubtless', 'redistribut', 'mest', 'mercado', 'vie', 'hide', 'previous', 'enfin', 'complianc', 'juuri', 'αύξηση', 'resign', 'diplomat', 'nationella', 'liksom', 'general', 'albeit', 'murder', 'perceiv', 'strada', 'coup', 'trop', 'σημασία', 'regener', 'suit', 'sought', 'uso', 'ευρώπης', 'intellig', 'τέλος', 'somo', 'sarebb', 'valuabl', 'pend', 'sysselsättn', 'strike', 'presentar', 'settlement', 'pictur', 'mise', 'επίπεδο', 'mittel', 'heel', 'perfect', 'vision', 'liabl', 'broader', 'além', 'disso', 'decourrièr', 'exact', 'doivent', 'meantim', 'transform', 'ordfører', 'están', 'procent', 'henn', 'mountain', 'propaganda', 'pessoa', 'assembleia', 'ollen', 'holdn', 'périodiqu', 'temo', 'schüssel', 'belief', 'compétitivité', 'seulement', 'φορά', 'beskæftigels', 'tidliger', 'emiss', 'albania', 'ejemplo', 'jedoch', 'reli', 'miten', 'ela', 'tough', 'herrar', 'periodiska', 'geval', 'schedul', 'aún', 'naturalment', 'sinn', 'necesidad', 'mejor', 'persona', 'espero', 'sean', 'whenev', 'viim', 'high-level', 'periodiek', 'σχέση', 'werd', 'sanoa', 'emm', 'convict', 'kohäsionsfond', 'frame', 'habe', 'hesit', 'waarin', 'seixa', 'nesta', 'muita', 'politiska', 'machin', 'doel', 'repair', 'nacionai', 'team', 'guidanc', 'nazionali', 'pasado', 'minim', 'jota', 'eight', 'stringent', 'nova', 'accordo', 'syrian', 'sagt', 'stöd', 'mietintö', 'site', 'cross', 'âmbito', 'proud', 'tijden', 'calcul', 'kiittää', 'render', 'municip', 'kom', 'confront', 'liikanen', 'αρχή', 'μιας', 'varför', 'muiden', 'alor', 'inför', 'phare', 'territorial', 'competitività', 'shipown', 'deploy', 'prioritet', 'vuoksi', 'wirtschaftlichen', 'alguno', 'dedic', 'risors', 'større', 'fondsen', 'ultraperiferich', 'cell', 'pauvr', 'souvent', 'hora', 'constraint', 'mod', 'αποτελεί', 'standpunt', 'fresh', 'prioritis', 'hagu', 'nostro', 'straße', 'mínima', 'primo', 'anvendels', 'análisi', 'devemo', 'desta', 'dictatorship', 'philosophi', 'harmoni', 'führen', 'sesta', 'avoir', 'cast', 'tomada', 'ligger', 'serum', 'πόρων', 'right-w', 'opt', 'doelstel', 'puolesta', 'deuxièm', 'excis', 'exigência', 'cadr', 'significa', 'devem', 'unrealist', 'terrorist', 'wherebi', 'cohesiefond', 'irrespons', 'indicador', 'space', 'landbouw', 'confeder', 'flora', 'likewis', 'analisi', 'sii', 'ella', 'season', 'siinä', 'merito', 'serait', 'bare', 'skill', 'pilot', 'copi', 'aucun', 'mesdam', 'messieur', 'reconsid', 'repeatedli', 'cargo', 'olett', 'berücksichtigt', 'samhørighedsfonden', 'spiritu', 'usein', 'becam', 'ese', 'verder', 'mikä', 'deliber', 'voidaan', 'tekst', 'netop', 'huomiota', 'taler', 'enemmän', 'echo', 'sikkerh', 'endelig', 'região', 'genetically-modifi', 'όλες', 'antaa', 'teitä', 'förbättra', 'dineh', 'fix', 'takk', 'anális', 'decreas', 'berger', 'larger', 'sixièm', 'avant', 'quarter', 'circl', 'afraid', 'aplicación', 'habitant', 'ultrapériphériqu', 'différent', 'expertis', 'preliminari', 'tomado', 'leadership', 'underpin', 'ny', 'deben', 'attain', 'sport', 'kommand', 'bli', 'timber', 'decisão', 'nostri', 'tidigar', 'μάλιστα', 'devon', 'neue', 'fort', 'dergelijk', 'flexibilidad', 'deutlich', 'besond', 'roth-behrendt', 'koko', 'nimenomaan', 'félicit', 'san', 'decent', 'zaak', 'beschäftigung', 'große', 'voter', 'zesd', 'mortal', 'πρόκειται', 'survey', 'posto', 'sink', 'multipl', 'ainoastaan', 'était', 'accommod', 'ευρωπαίων', 'essentiel', 'wenig', 'alltså', 'lige', 'schon', 'kammaren', 'contrast', 'optim', 'bestämmels', 'black', 'wurden', 'zeit', 'pode', 'svolto', 'midler', 'scrutini', 'αν', 'ännu', 'extrêmement', 'waarom', 'piec', 'assegurar', 'strength', 'daran', 'estratégico', 'fim', 'primari', 'ferrocarril', 'explicit', 'fewer', 'beef', 'mesma', 'visto', 'económico', 'udviklingen', 'tredj', 'député', 'virtual', 'dramat', 'ingen', 'rappel', 'district', 'μην', 'proce', 'wednesday', 'público', 'struttural', 'slightli', 'substant', 'verkligen', 'sceptic', 'judiciari', 'saber', 'tratado', 'certif', 'tenemo', 'harmonização', 'richtig', 'vis-à-vi', 'stay', 'lag', 'zaken', 'stabl', 'certa', 'innanzi', 'excelent', 'nogueira', 'condiçõ', 'minuto', 'fill', 'patent', 'croissanc', 'dupui', 'nivel', 'economía', 'finalis', 'apport', 'plaat', 'competent', 'coastal', 'wettbewerbsfähigkeit', 'περιόδου', 'savari', 'rica', 'remedi', 'raum', 'devono', 'inoltr', 'citoyen', 'theme', 'zunächst', 'februar', 'vita', 'estructur', 'periodica', 'sjett', 'periodisk', 'serbian', 'realizado', 'constat', 'disagre', 'programación', 'ceil', 'gebi', 'δημιουργία', 'andalusia', 'andet', 'durabl', 'accur', 'inzak', 'resist', 'ihren', 'differenti', 'reloc', 'tänään', 'ευχαριστήσω', 'aunqu', 'timor', 'nordic', 'questi', 'user', 'stata', 'ψηφοφορία', 'frassoni', 'condicion', 'campo', 'regler', 'poter', 'fortfarand', 'regel', 'imper', 'alarm', 'pourquoi', 'ασφαλείας', 'regulamentação', 'motor', 'torsdag', 'custom', 'μελών', 'conselheiro', 'sede', 'manifesto', 'optimum', 'fælle', 'beslut', 'ευρωπαϊκού', 'greatli', 'sistema', 'vissa', 'skaber', 'herrer', 'før', 'lisäksi', 'vår', 'lynn', 'moni', 'seiner', 'exempl', 'vagu', 'condizioni', 'unmik', 'denounc', 'μεγαλύτερη', 'procedimiento', 'sadli', 'agricultura', 'alueita', 'ponnambalam', 'carta', 'μπορούμε', 'uranium', 'sjätte', 'vej', 'κυρίες', 'esam', 'ust', 'tegen', 'verschillen', 'indian', 'began', 'wachstum', 'μέτρα', 'tengo', 'groei', 'större', 'tenu', 'vece', 'forhandl', 'instal', 'ofta', 'toujour', 'domínio', 'occup', 'tendo', 'efecto', 're-establish', 'sarà', 'crescita', 'stemmen', 'suficientement', 'insecur', 'below', 'tydligt', 'vinden', 'går', 'gather', 'πολιτικών', 'inferior', 'renationalis', 'incoher', 'positivo', 'kommend', 'track', 'wo', 'fourthli', 'zojuist', 'especialment', 'sozial', 'enrich', 'toch', 'cinq', 'συνεπώς', 'warmli', 'nowaday', 'chair', 'donné', 'fairli', 'p.m.', 'βάση', 'großen', 'κοινωνικής', 'blir', 'nouveau', 'macedonian', 'gorsel', 'wieder', 'altijd', 'laatimisohjeet', 'inappropri', 'buy', 'κοινωνική', 'gefährlich', 'uniti', 'änderungsanträg', 'drought', 'beaucoup', 'palavra', 'doi', 'lend', 'hinder', 'saw', 'precisament', 'aggress', 'profil', 'gonzález', 'possa', 'arbetslösheten', 'apoyo', 'hinsichtlich', 'jahren', 'alter', 'visar', 'deseo', 'förderung', 'expand', 'andrey', 'randområdena', 'åren', 'europaparlamentet', 'iron', 'hypocrisi', 'african', 'caribbean', 'faster', 'serviço', 'overlook', 'omiss', 'böge', 'rurali', '·', 'enshrin', 'deterior', 'liian', 'lieb', 'discov', 'boa', 'possibil', 'comissária', 'tinha', 'cancel', 'feit', 'metal', 'descript', 'brittani', 'parc', 'territoir', 'insuffici', 'distanc', 'dai', 'woord', 'extremist', 'consumpt', 'personnel', 'selbst', 'considero', 'sail', 'román', '1994-1999', 'cour', 'laquel', 'privado', 'gå', 'områden', 'contamin', 'crecimiento', 'slow', 'hedkvist', 'petersen', 'vaikka', 'structuurbeleid', 'numa', 'insofar', 'volt', 'ecosystem', 'ομάδας', 'respeita', 'groot', 'irregular', 'företagen', 'vraagstuk', 'arrest', 'risultati', 'verifi', 'scene', 'evitar', 'luogo', 'ersten', 'bidrag', 'tack', 'niitä', 'esforço', 'têm', 'considerazion', 'προβλήματα', 'deepli', 'rätt', 'book', 'plusieur', 'significantli', 'θέσεις', 'bastant', 'rome', 'urbano', 'asiassa', 'altri', 'sociedad', 'mucha', 'suuntaviivojen', 'gross', 'distinct', 'προτεραιότητα', 'esfuerzo', 'nacional', 'naturel', 'positiv', 'grundlag', 'estremament', 'linha', 'richiesta', 'qualità', 'qualch', 'délai', 'gemeenschappelijk', 'unido', 'résultat', 'recit', 'οδικές', 'strategisch', 'konkret', 'κρατών', 'invec', 'bovendien', 'straight', 'eri', 'ber', 'mitt', 'watch', 'ministeri', 'vielen', 'meinung', 'urbana', 'ανεργίας', 'deregul', 'earn', 'conjunto', 'quadro', 'eso', 'nuovo', 'hoop', 'tavoitteen', 'selvom', 'nº', 'uppnå', 'persuad', 'settl', 'kehityksen', 'μπορούν', 'tror', 'esimerkiksi', 'stadig', 'nueva', 'disposit', 'essenc', 'kära', 'ecsc', 'tager', 'formula', 'represent', 'liegt', 'multi-ethn', 'votación', 'réglement', 'bestemmels', 'imbal', 'ασφάλειας', 'tapauksessa', 'wijzen', 'emendamento', 'näitä', 'território', 'miksi', 'waard', 'tudo', 'alavano', 'hij', 'dibattito', 'modifica', 'måde', 'samordn', 'regularli', 'diferent', 'katastrof', 'opinião', 'bereich', 'présent', 'eurostat', 'ytterligar', 'niistä', 'andr', 'καταρχάς', 'greenhous', 'νέων', 'fragment', 'pull', 'bitt', 'menschen', 'pedir', 'ajuda', 'acident', 'perant', 'pido', 'sammanhållningen', 'posición', 'täällä', 'opinión', 'superior', 'suficient', 'rahmen', 'savoir', 'todellakin', 'duurzam', 'regulatori', 'beter', 'bürger', 'unilater', 'monet', 'a5-0107', 'c5-0120', 'outstand', 'όσο', 'display', 'rapkay', 'ringrazio', 'ennen', 'stick', 'asiasta', 'cepend', 'αυτήν', 'kommen', 'lawyer', 'loud', 'raad', 'plooij-van', 'bin', 'backward', 'λοιπόν', 'partir', 'ond', 'continuum', 'enligt', 'sell', 'στόχους', 'hvilket', 'väg', 'πραγματικά', 'udtryk', 'υπό', 'σύμφωνα', 'unclear', 'withdrawn', 'unter', 'gerad', 'ihrem', 'vía', 'quaestor', 'pare', 'eaggf', 'unpreced', 'tagit', 'lägga', 'wind', 'devrion', 'coincid', 'εισηγητή', 'deed', 'entanto', 'geworden', 'a5-0108', 'c5-0122', 'απόφαση', 'io', 'komissiota', 'posti', 'arbetstillfällen', 'crescimento', 'eficácia', 'repercuss', 'battl', 'hull', 'inspir', 'assert', 'quantit', 'spoor', 'tauern', 'angolan', 'prejudic', 'evident', 'anderen', 'esempio', 'schien', 'compris', 'chosen', 'talar', 'recordar', 'premier', 'quand', 'veux', 'vai', 'helaa', 'widespread', 'verschillend', 'περιφερειακή', 'extra', 'avait', 'nostr', 'struck', 'strategisk', 'aikana', 'rol', 'repress', 'serio', 'alongsid', 'última', 'ind', 'συνέχεια', 'class', 'particularment', 'élabor', 'avulla', 'communitis', 'bruto', 'verbesserung', 'utilizzo', 'percento', 'rispetto', 'margin', 'index', 'tienen', 'zeitraum', 'rom', 'consiguient', 'contexto', 'positiva', 'uden', 'vigtig', 'hend', 'januar', 'darum', 'duda', 'jäsenvaltiot', 'contradictori', 'qualidad', 'seria', 'broadli', 'hvorfor', 'haft', 'eg', 'dello', 'sociali', 'beneficiari', 'aspetto', 'finalment', 'ritengo', 'punti', 'progetti', 'långt', 'vilka', 'lorsqu', 'εντός', 'κάνουμε', 'memori', 'rebuild', 'staan', 'processu', 'vicecont', 'comunitaria', 'applicazion', 'ailleur', 'komma', 'creativ', 'badli', 'middelen', 'jäsenet', 'entiti', 'troop', 'migliorar', 'harbour', 'toinen', 'etwa', 'aina', 'contr', 'alueet', 'threshold', 'belgrad', 'στιγμή', 'kraft', 'applaud', 'ακόμα', 'viktig', 'wholeheartedli', 'alleg', 'esiin', 'αυτής', 'τροπολογία', 'συγκεκριμένα', 'bra', 'così', 'strumento', 'agit', 'credo', 'omröstningen', 'aivan', 'hasta', 'dobbiamo', 'prompt', 'graef', 'baringdorf', 'comparison', 'eec', 'embark', 'blandt', 'seeker', 'benefici', 'nobodi', 'blot', 'meda', 'porém', 'criação', 'quai', 'poder', 'bijzond', 'αποτέλεσμα', 'hade', 'advers', 'throw', 'mix', 'legislatur', 'partial', 'συχνά', 'σοβαρά', 'disturb', 'expir', 'commenc', 'europei', 'comum', 'cómo', 'pequeña', 'everywher', 'india', 'a5-0104', 'characterist', 'czech', 'immens', 'vó', 'length', 'formação', 'wealthi', 'frågor', 'zowel', 'besluit', 'højere', 'schaffen', 'genet', 'techniqu', 'drejer', 'chapeau', 'undergo', 'politisk', 'kumar', 'principal', 'medel', 'appel', 'spørgsmålet', 'soulign', 'delet', 'c5-0004', '0083', 'règlement', 'large-scal', 'posso', 'procédur', 'predict', 'gulf', 'anxiou', 'religi', 'far-reach', 'negativa', 'teistä', 'wijzig', 'ændring', 'vaak', 'gebracht', 'ταμείου', 'rethink', 'legislativo', 'unfair', 'quella', 'c5-0208', '0106', 'hacia', 'pensar', 'waterway', 'a5-0105', 'agricol', 'personn', 'afin', 'até', 'puerta', 'page', 'δυστυχώς', 'pover', 'projecten', 'bush', 'closur', 'altogeth', 'ryhmäni', 'elisabeth', 'proactiv', 'eurodac', 'φαίνεται', 'luz', 'bi', 'parlamentissa', 'infraestructura', 'simpson', 'zien', 'behov', 'έκτη', 'περιοδική', 'sim', 'interact', 'pelkästään', 'verbet', 'daadwerkelijk', 'igualdad', 'escap', 'partenariato', 'dunqu', 'tribut', 'rhetor', 'latest', 'criar', 'segno', 'crise', 'aparicio', 'sánchez', 'pyydän', 'signifi', 'σοσιαλιστών', 'étant', 'meest', 'krijgen', 'vergessen', 'gelijk', 'uppmanar', 'win', 'search', 'verkehr', 'inquiri', 'honest', 'soul', 'vårt', 'soll', 'minst', 'wake', 'hoc', 'breve', 'asylum-seek', 'director', 'pregunta', 'díez', 'in-depth', 'εγώ', 'airport', 'helst', 'cocilovo', 'denken', '-y', 'estoy', 'siano', 'poco', 'flera', 'slutligen', 'cart', 'curtain', 'πολίτες', 'verbeteren', 'samenhang', 'gebruik', 'lengthi', 'incident', 'conclusõ', 'aprè', 'μόλις', 'popular', 'everybodi', 'ταμείο', 'ρόλο', 'gebieten', 'virtu', 'suuria', 'tune', 'usd', 'snel', 'tour', 'felicitar', 'säkerheten', 'exert', 'entrepreneurship', 'instabl', 'faktiskt', 'openli', 'oltava', 'programmern', 'cold', 'fortun', 'effektivitet', 'γνώμη', 'altresì', 'arbejdsløsh', 'opnå', 'nota', 'mandatori', 'minder', 'betydn', 'vergeten', 'besoin', 'besid', 'teve', 'muligh', 'leftov', 'sowohl', 'earthquak', 'presidenti', 'consiglio', 'consejero', 'ut', 'career', 'arab', 'βελτίωση', 'προγράμματα', 'kader', 'well-known', 'gute', 'bolkestein', 'amanhã', 'progetto', 'friendli', 'änderung', 'gefahrguttransport', 'vengono', 'semain', 'passion', 'cofinanc', 'estimado', 'rapidament', 'pave', 'ribeiro', 'castro', 'insular', 'chiedo', 'σημαντική', 'vergad', 'colleg', 'imidlertid', 'tangibl', 'nom', 'ethic', 'betreffend', 'arbejdsplads', 'begäran']\n"
     ]
    }
   ],
   "source": [
    "freq = nltk.probability.FreqDist(words_without_sw)# BOW\n",
    "word_feature = list(freq)[:5000]\n",
    "\n",
    "print(word_feature)"
   ]
  },
  {
   "cell_type": "markdown",
   "metadata": {},
   "source": []
  },
  {
   "cell_type": "markdown",
   "source": [
    "# We define the function that will extract out features\n",
    "For each document, the function returns a dictionary that verifies which words, from the document we pass in input, are contained into the BOW."
   ],
   "metadata": {
    "collapsed": false
   }
  },
  {
   "cell_type": "code",
   "execution_count": 8,
   "metadata": {},
   "outputs": [],
   "source": [
    "def document_features(document):\n",
    "    document_words = word_tokenize(document)\n",
    "    features = {}\n",
    "    for word in word_feature:\n",
    "        features['contains({})'.format(word)] = (word in document_words)\n",
    "    return features"
   ]
  },
  {
   "cell_type": "markdown",
   "source": [
    "# Define the featureset\n",
    "A list of tuples, that associates the label 'eng' or 'noteng' to each paragraph of the corpora we imported previously."
   ],
   "metadata": {
    "collapsed": false
   }
  },
  {
   "cell_type": "code",
   "execution_count": 9,
   "metadata": {},
   "outputs": [],
   "source": [
    "featuresets = [(document_features(d), c) for (d,c) in documents]"
   ]
  },
  {
   "cell_type": "markdown",
   "source": [
    "# I initiate the Naive Bayes Classifier\n",
    "- Train set: first half of the featureset\n",
    "- Test set: second half of the featureset"
   ],
   "metadata": {
    "collapsed": false
   }
  },
  {
   "cell_type": "code",
   "execution_count": 10,
   "outputs": [
    {
     "name": "stdout",
     "output_type": "stream",
     "text": [
      "29109\n"
     ]
    }
   ],
   "source": [
    "print(len(featuresets))\n",
    "train_set, test_set = featuresets[math.floor(len(featuresets)/2):], featuresets[:math.floor(len(featuresets)/2)]\n",
    "classifier = nltk.NaiveBayesClassifier.train(train_set)"
   ],
   "metadata": {
    "collapsed": false
   }
  },
  {
   "cell_type": "markdown",
   "source": [
    "# Testing the classifier on new sentences"
   ],
   "metadata": {
    "collapsed": false
   }
  },
  {
   "cell_type": "code",
   "execution_count": 11,
   "outputs": [
    {
     "name": "stdout",
     "output_type": "stream",
     "text": [
      "noteng\n"
     ]
    }
   ],
   "source": [
    "print(classifier.classify(document_features(\"mauro\")))"
   ],
   "metadata": {
    "collapsed": false
   }
  },
  {
   "cell_type": "markdown",
   "source": [],
   "metadata": {
    "collapsed": false
   }
  },
  {
   "cell_type": "code",
   "execution_count": 18,
   "metadata": {},
   "outputs": [],
   "source": [
    "refMat = list()\n",
    "testMat = list()\n",
    "for i, (feats, label) in enumerate(test_set):\n",
    "    refMat.append('eng') if label == 'eng' else refMat.append('noteng')\n",
    "    observed = classifier.classify(feats)\n",
    "    testMat.append('eng') if observed == 'eng' else testMat.append('noteng')"
   ]
  },
  {
   "cell_type": "markdown",
   "source": [
    "# Display stats\n",
    "\n",
    "- Precision: The number of labeled positive / real positive\n",
    "- Recall: The number of labeled negative / real negative\n",
    "- F-Measure:"
   ],
   "metadata": {
    "collapsed": false
   }
  },
  {
   "cell_type": "code",
   "execution_count": 20,
   "outputs": [
    {
     "name": "stdout",
     "output_type": "stream",
     "text": [
      "   Tag | Prec.  | Recall | F-measure\n",
      "-------+--------+--------+-----------\n",
      "   eng | 1.0000 | 0.9919 | 0.9959\n",
      "noteng | 0.9824 | 1.0000 | 0.9911\n",
      "\n",
      "Precision: 1.0\n",
      "Recall: 0.9919266420811322\n",
      "F-Measure: 0.995946960220165\n"
     ]
    }
   ],
   "source": [
    "cm = ConfusionMatrix(refMat, testMat)\n",
    "print(cm.evaluate())"
   ],
   "metadata": {
    "collapsed": false
   }
  }
 ],
 "metadata": {
  "kernelspec": {
   "display_name": "Python 3 (ipykernel)",
   "language": "python",
   "name": "python3"
  },
  "language_info": {
   "codemirror_mode": {
    "name": "ipython",
    "version": 3
   },
   "file_extension": ".py",
   "mimetype": "text/x-python",
   "name": "python",
   "nbconvert_exporter": "python",
   "pygments_lexer": "ipython3",
   "version": "3.9.13"
  }
 },
 "nbformat": 4,
 "nbformat_minor": 1
}
